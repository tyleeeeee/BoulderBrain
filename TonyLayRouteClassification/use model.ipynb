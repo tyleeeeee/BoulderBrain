{
 "cells": [
  {
   "cell_type": "code",
   "execution_count": 2,
   "metadata": {
    "colab": {
     "base_uri": "https://localhost:8080/"
    },
    "executionInfo": {
     "elapsed": 19208,
     "status": "ok",
     "timestamp": 1679314410991,
     "user": {
      "displayName": "Tony Lay",
      "userId": "12991364819392579390"
     },
     "user_tz": 0
    },
    "id": "T3nCvm1mTbK_",
    "outputId": "abe00ee0-259f-449e-fbc8-17157f7714ab"
   },
   "outputs": [
    {
     "name": "stdout",
     "output_type": "stream",
     "text": [
      "Requirement already satisfied: google in c:\\users\\bnroo\\onedrive\\desktop\\boulderbrain\\.venv\\lib\\site-packages (3.0.0)\n",
      "Requirement already satisfied: beautifulsoup4 in c:\\users\\bnroo\\onedrive\\desktop\\boulderbrain\\.venv\\lib\\site-packages (from google) (4.12.3)\n",
      "Requirement already satisfied: soupsieve>1.2 in c:\\users\\bnroo\\onedrive\\desktop\\boulderbrain\\.venv\\lib\\site-packages (from beautifulsoup4->google) (2.6)\n"
     ]
    },
    {
     "ename": "ModuleNotFoundError",
     "evalue": "No module named 'google'",
     "output_type": "error",
     "traceback": [
      "\u001b[1;31m---------------------------------------------------------------------------\u001b[0m",
      "\u001b[1;31mModuleNotFoundError\u001b[0m                       Traceback (most recent call last)",
      "Cell \u001b[1;32mIn[2], line 2\u001b[0m\n\u001b[0;32m      1\u001b[0m get_ipython()\u001b[38;5;241m.\u001b[39msystem(\u001b[38;5;124m'\u001b[39m\u001b[38;5;124mpip install google\u001b[39m\u001b[38;5;124m'\u001b[39m)\n\u001b[1;32m----> 2\u001b[0m \u001b[38;5;28;01mfrom\u001b[39;00m \u001b[38;5;21;01mgoogle\u001b[39;00m\u001b[38;5;21;01m.\u001b[39;00m\u001b[38;5;21;01mcolab\u001b[39;00m \u001b[38;5;28;01mimport\u001b[39;00m drive\n\u001b[0;32m      3\u001b[0m drive\u001b[38;5;241m.\u001b[39mmount(\u001b[38;5;124m'\u001b[39m\u001b[38;5;124m/content/drive\u001b[39m\u001b[38;5;124m'\u001b[39m)\n",
      "\u001b[1;31mModuleNotFoundError\u001b[0m: No module named 'google'"
     ]
    }
   ],
   "source": [
    "from google.colab import drive\n",
    "drive.mount('/content/drive')"
   ]
  },
  {
   "cell_type": "code",
   "execution_count": null,
   "metadata": {
    "colab": {
     "base_uri": "https://localhost:8080/"
    },
    "executionInfo": {
     "elapsed": 74305,
     "status": "ok",
     "timestamp": 1679314485293,
     "user": {
      "displayName": "Tony Lay",
      "userId": "12991364819392579390"
     },
     "user_tz": 0
    },
    "id": "6pjRZdeiYPPI",
    "outputId": "d6fb6b34-76e5-428a-b4ea-2440ebbfb582"
   },
   "outputs": [],
   "source": [
    "!pip install pyyaml==5.1\n",
    "!pip install torch==1.8.0+cu101 torchvision==0.9.0+cu101 -f https://download.pytorch.org/whl/torch_stable.html\n",
    "#install old version of pytorch since detectron2 hasn't released packages for pytorch 1.9"
   ]
  },
  {
   "cell_type": "code",
   "execution_count": null,
   "metadata": {
    "colab": {
     "base_uri": "https://localhost:8080/",
     "height": 1000
    },
    "executionInfo": {
     "elapsed": 17127,
     "status": "ok",
     "timestamp": 1679314502409,
     "user": {
      "displayName": "Tony Lay",
      "userId": "12991364819392579390"
     },
     "user_tz": 0
    },
    "id": "HpUGHZuwYZvS",
    "outputId": "a069d746-7f34-4b41-8d17-a40333fedb63"
   },
   "outputs": [],
   "source": [
    "!pip install detectron2 -f https://dl.fbaipublicfiles.com/detectron2/wheels/cu101/torch1.8/index.html\n",
    "# After this step it will ask you to restart the runtime, please do it."
   ]
  },
  {
   "cell_type": "code",
   "execution_count": 4,
   "metadata": {
    "executionInfo": {
     "elapsed": 1565,
     "status": "ok",
     "timestamp": 1679314503970,
     "user": {
      "displayName": "Tony Lay",
      "userId": "12991364819392579390"
     },
     "user_tz": 0
    },
    "id": "KGheWs13YoM9"
   },
   "outputs": [],
   "source": [
    "import torch\n",
    "assert torch.__version__.startswith(\"1.8\") \n",
    "import torchvision\n",
    "import cv2"
   ]
  },
  {
   "cell_type": "markdown",
   "metadata": {
    "id": "03jcsFg9X-9v"
   },
   "source": [
    "###**Register the data to Detectron2 config**"
   ]
  },
  {
   "cell_type": "code",
   "execution_count": 5,
   "metadata": {
    "executionInfo": {
     "elapsed": 6,
     "status": "ok",
     "timestamp": 1679314503970,
     "user": {
      "displayName": "Tony Lay",
      "userId": "12991364819392579390"
     },
     "user_tz": 0
    },
    "id": "UPhV9QzOTggW"
   },
   "outputs": [],
   "source": [
    "import os\n",
    "import numpy as np\n",
    "import json\n",
    "import random\n",
    "import matplotlib.pyplot as plt\n",
    "%matplotlib inline\n",
    "\n",
    "from detectron2.structures import BoxMode\n",
    "from detectron2.data import DatasetCatalog, MetadataCatalog"
   ]
  },
  {
   "cell_type": "code",
   "execution_count": 6,
   "metadata": {
    "executionInfo": {
     "elapsed": 6,
     "status": "ok",
     "timestamp": 1679314503971,
     "user": {
      "displayName": "Tony Lay",
      "userId": "12991364819392579390"
     },
     "user_tz": 0
    },
    "id": "jPDbZ10mTgdf"
   },
   "outputs": [],
   "source": [
    "def get_data_dicts(directory, classes):\n",
    "    dataset_dicts = []\n",
    "    for filename in [file for file in os.listdir(directory) if file.endswith('.json')]:\n",
    "        json_file = os.path.join(directory, filename)\n",
    "        with open(json_file) as f:\n",
    "            img_anns = json.load(f)\n",
    "\n",
    "        record = {}\n",
    "        \n",
    "        filename = os.path.join(directory, img_anns[\"imagePath\"])\n",
    "        \n",
    "        record[\"file_name\"] = filename\n",
    "        record[\"height\"] = img_anns[\"imageHeight\"]\n",
    "        record[\"width\"] = img_anns[\"imageWidth\"]\n",
    "      \n",
    "        annos = img_anns[\"shapes\"]\n",
    "        objs = []\n",
    "        for anno in annos:\n",
    "            px = [a[0] for a in anno['points']] # x coord\n",
    "            py = [a[1] for a in anno['points']] # y-coord\n",
    "            poly = [(x, y) for x, y in zip(px, py)] # poly for segmentation\n",
    "            poly = [p for x in poly for p in x]\n",
    "\n",
    "            obj = {\n",
    "                \"bbox\": [np.min(px), np.min(py), np.max(px), np.max(py)],\n",
    "                \"bbox_mode\": BoxMode.XYXY_ABS,\n",
    "                \"segmentation\": [poly],\n",
    "                \"category_id\": classes.index(anno['label']),\n",
    "                \"iscrowd\": 0\n",
    "            }\n",
    "            objs.append(obj)\n",
    "        record[\"annotations\"] = objs\n",
    "        dataset_dicts.append(record)\n",
    "    return dataset_dicts"
   ]
  },
  {
   "cell_type": "code",
   "execution_count": 7,
   "metadata": {
    "executionInfo": {
     "elapsed": 6,
     "status": "ok",
     "timestamp": 1679314503971,
     "user": {
      "displayName": "Tony Lay",
      "userId": "12991364819392579390"
     },
     "user_tz": 0
    },
    "id": "NGt-e47XTgas"
   },
   "outputs": [],
   "source": [
    "classes = ['jug','easy_foothold','sloper','large_sloper','easy_edge','crimp_edge','edge_large_sloper','crimp','u_edge','easy_sloper','double_sided_jug','pinch_sloper','foothold','double_sided_sloper','edge','curve_edge_sloper','pocket','pinch','edge_sloper','volume','large_moon_edge','platform']\n",
    "\n",
    "data_path = '/content/drive/MyDrive/Third Year Project/slab_images/'\n",
    "\n",
    "DatasetCatalog.clear()\n",
    "MetadataCatalog.clear()\n",
    "\n",
    "for d in [\"train\", \"test\"]:\n",
    "    DatasetCatalog.register(\n",
    "        \"category_\" + d, \n",
    "        lambda d=d: get_data_dicts(data_path+d, classes)\n",
    "    )\n",
    "    MetadataCatalog.get(\"category_\" + d).set(thing_classes=classes)\n",
    "\n",
    "microcontroller_metadata = MetadataCatalog.get(\"category_train\")"
   ]
  },
  {
   "cell_type": "markdown",
   "metadata": {
    "id": "BUDK8zsnbGG6"
   },
   "source": [
    "###**Training the Detectron2 Instance Segmentation Model**"
   ]
  },
  {
   "cell_type": "code",
   "execution_count": 8,
   "metadata": {
    "executionInfo": {
     "elapsed": 5,
     "status": "ok",
     "timestamp": 1679314503971,
     "user": {
      "displayName": "Tony Lay",
      "userId": "12991364819392579390"
     },
     "user_tz": 0
    },
    "id": "Nm3OOWjXTgZZ"
   },
   "outputs": [],
   "source": [
    "from detectron2 import model_zoo\n",
    "from detectron2.engine import DefaultTrainer, DefaultPredictor\n",
    "from detectron2.config import get_cfg, LazyConfig\n",
    "from detectron2.utils.visualizer import ColorMode, Visualizer\n",
    "from detectron2.data import transforms as T\n",
    "from detectron2.data import build_detection_train_loader, DatasetMapper"
   ]
  },
  {
   "cell_type": "markdown",
   "metadata": {
    "id": "kDoXEeTWa-Zf"
   },
   "source": [
    "###**Inference using a Saved Model**"
   ]
  },
  {
   "cell_type": "code",
   "execution_count": 9,
   "metadata": {
    "executionInfo": {
     "elapsed": 13650,
     "status": "ok",
     "timestamp": 1679314517616,
     "user": {
      "displayName": "Tony Lay",
      "userId": "12991364819392579390"
     },
     "user_tz": 0
    },
    "id": "rJqre_6gbITI"
   },
   "outputs": [],
   "source": [
    "cfg = get_cfg()\n",
    "cfg.merge_from_file('/content/drive/MyDrive/Third Year Project/models/model_0_cfg.yaml') # Set config\n",
    "cfg.MODEL.ROI_HEADS.SCORE_THRESH_TEST = 0.5 # Set threshold to return classifications with > 0.5 confidence\n",
    "cfg.MODEL.WEIGHTS = '/content/drive/MyDrive/Third Year Project/models/model_0.pth' # Set path model .pth\n",
    "cfg.MODEL.ROI_HEADS.NUM_CLASSES = 22\n",
    "predictor = DefaultPredictor(cfg)"
   ]
  },
  {
   "cell_type": "code",
   "execution_count": 10,
   "metadata": {
    "executionInfo": {
     "elapsed": 12982,
     "status": "ok",
     "timestamp": 1679314530596,
     "user": {
      "displayName": "Tony Lay",
      "userId": "12991364819392579390"
     },
     "user_tz": 0
    },
    "id": "ggCV9HzMew9V"
   },
   "outputs": [],
   "source": [
    "test_dataset_dicts = get_data_dicts(data_path+'test', classes)\n",
    "train_dataset_dicts = get_data_dicts(data_path+'train', classes)"
   ]
  },
  {
   "cell_type": "code",
   "execution_count": null,
   "metadata": {
    "colab": {
     "base_uri": "https://localhost:8080/",
     "height": 1000
    },
    "executionInfo": {
     "elapsed": 5649,
     "status": "ok",
     "timestamp": 1679314536235,
     "user": {
      "displayName": "Tony Lay",
      "userId": "12991364819392579390"
     },
     "user_tz": 0
    },
    "id": "QZncrw2EtvX7",
    "outputId": "7d6a32d5-b001-4079-9e9d-08f492e1e9b7"
   },
   "outputs": [],
   "source": [
    "img = cv2.imread('/content/drive/MyDrive/Third Year Project/route_images/blue_V0-V2.jpg')\n",
    "outputs = predictor(img)\n",
    "v = Visualizer(img[:, :, ::-1],\n",
    "                  metadata=microcontroller_metadata, \n",
    "                  scale=0.8, \n",
    "                  instance_mode=ColorMode.IMAGE_BW # removes the colors of unsegmented pixels\n",
    "  )\n",
    "v = v.draw_instance_predictions(outputs[\"instances\"].to(\"cpu\"))\n",
    "\n",
    "plt.figure(figsize=(25,25))\n",
    "plt.imshow(cv2.cvtColor(v.get_image()[:, :, ::-1], cv2.COLOR_BGR2RGB))\n",
    "plt.show()"
   ]
  },
  {
   "cell_type": "code",
   "execution_count": 1,
   "metadata": {
    "executionInfo": {
     "elapsed": 12,
     "status": "ok",
     "timestamp": 1679314536236,
     "user": {
      "displayName": "Tony Lay",
      "userId": "12991364819392579390"
     },
     "user_tz": 0
    },
    "id": "csUIO2RL6D3S"
   },
   "outputs": [],
   "source": [
    "import cv2\n",
    "import pickle\n",
    "import glob\n",
    "import os"
   ]
  },
  {
   "cell_type": "code",
   "execution_count": 23,
   "metadata": {
    "executionInfo": {
     "elapsed": 45410,
     "status": "ok",
     "timestamp": 1679315131513,
     "user": {
      "displayName": "Tony Lay",
      "userId": "12991364819392579390"
     },
     "user_tz": 0
    },
    "id": "cZyM6ujCuhPr"
   },
   "outputs": [],
   "source": [
    "def process_all():\n",
    "  for file_path in glob.glob(\"/content/drive/MyDrive/Third Year Project/route_images/*\"):\n",
    "    file_name = os.path.basename(file_path).split(\".\")[0]\n",
    "    img = cv2.imread(file_path)\n",
    "    outputs = predictor(img)\n",
    "    fields = outputs['instances'].get_fields()\n",
    "     \n",
    "    data_out = {'pred_boxes': [],\n",
    "              'scores': [],\n",
    "              'pred_classes': [],\n",
    "              'contours': [],\n",
    "              'contour_area': []}\n",
    "\n",
    "    for key in fields.keys():\n",
    "      for item in fields[key]:\n",
    "        if key=='pred_masks':\n",
    "          mask = item.cpu().numpy().astype('uint8')\n",
    "          contour, _ = cv2.findContours(mask, cv2.RETR_LIST, cv2.CHAIN_APPROX_NONE)\n",
    "          data_out['contour_area'].append(cv2.contourArea(contour[0]))\n",
    "          data_out['contours'].append(contour)\n",
    "        else:\n",
    "          data_out[key].append(item.cpu().numpy())\n",
    "        \n",
    "      with open(f'/content/drive/MyDrive/Third Year Project/tensor_data/{file_name}.pickle', 'wb') as handle:\n",
    "          pickle.dump(data_out, handle)\n",
    "\n",
    "process_all()\n",
    "\n",
    "# fields = outputs['instances'].get_fields()\n",
    "# print(fields.keys())\n",
    "\n",
    "# imgcopy = img.copy()\n",
    "# data_out = {'pred_boxes': [],\n",
    "#           'scores': [],\n",
    "#           'pred_classes': [],\n",
    "#           'contours': [],\n",
    "#           'contour_area': []}\n",
    "\n",
    "# for key in fields.keys():\n",
    "#   for item in fields[key]:\n",
    "#     if key=='pred_masks':\n",
    "#       mask = item.cpu().numpy().astype('uint8')\n",
    "#       contour, _ = cv2.findContours(mask, cv2.RETR_LIST, cv2.CHAIN_APPROX_NONE)\n",
    "#       data_out['contour_area'].append(cv2.contourArea(contour[0]))\n",
    "#       data_out['contours'].append(contour)\n",
    "#     else:\n",
    "#       data_out[key].append(item.cpu().numpy())\n",
    "\n",
    "# print(data_out.keys())\n",
    "# print(data_out['contours'][0])\n",
    "# cv2.drawContours(imgcopy, data_out['contours'][0], -1, (0,255,0), 3)\n",
    "# plt.figure(figsize=(25,25))\n",
    "# plt.imshow(imgcopy)\n",
    "# with open('/content/drive/MyDrive/Third Year Project/tensor_data/image (100).pickle', 'wb') as handle:\n",
    "#     pickle.dump(data_out, handle)\n",
    "\n",
    "# for pred_mask in fields['pred_masks']:\n",
    "#   # pred_mask is of type torch.Tensor, and the values are boolean (True, False)\n",
    "#   # Convert it to a 8-bit numpy array, which can then be used to find contours\n",
    "#   mask = pred_mask.cpu().numpy().astype('uint8')\n",
    "#   contour, _ = cv2.findContours(mask, cv2.RETR_LIST, cv2.CHAIN_APPROX_NONE)\n",
    "#   print(cv2.contourArea(contour[0]))"
   ]
  },
  {
   "cell_type": "code",
   "execution_count": null,
   "metadata": {
    "colab": {
     "base_uri": "https://localhost:8080/",
     "height": 1000,
     "output_embedded_package_id": "1wdFIpRW6_3p3kN8WpaiHcXp9SOdY2CLo"
    },
    "executionInfo": {
     "elapsed": 9728,
     "status": "ok",
     "timestamp": 1679229912331,
     "user": {
      "displayName": "Tony Lay",
      "userId": "12991364819392579390"
     },
     "user_tz": 0
    },
    "id": "szl9_FJn4SAz",
    "outputId": "45a3a10c-da12-4ce7-c671-9563264d5025"
   },
   "outputs": [],
   "source": [
    "# open\n",
    "with open('/content/drive/MyDrive/Third Year Project/tensor_data/image (100).pickle', 'rb') as handle:\n",
    "  data = pickle.load(handle)\n",
    "  img_test = img.copy()\n",
    "  bb = data['pred_boxes'][0]\n",
    "  cv2.rectangle(img_test, (round(bb[0]), round(bb[1])), (round(bb[2]), round(bb[3])), (255,0,0), 2)\n",
    "  plt.figure(figsize=(25,25))\n",
    "  plt.imshow(cv2.cvtColor(img_test, cv2.COLOR_BGR2RGB))\n",
    "  print(data['pred_classes'][0])\n",
    "  print(data['contour_area'][0])"
   ]
  },
  {
   "cell_type": "code",
   "execution_count": null,
   "metadata": {
    "colab": {
     "background_save": true,
     "base_uri": "https://localhost:8080/",
     "height": 1000,
     "output_embedded_package_id": "1AjKAW8v3J6cLp81BOZBXKvQkOlZ1meaO"
    },
    "executionInfo": {
     "elapsed": 32107,
     "status": "ok",
     "timestamp": 1678912752779,
     "user": {
      "displayName": "Tony Lay",
      "userId": "12991364819392579390"
     },
     "user_tz": 0
    },
    "id": "IHcgGp8Rfy7S",
    "outputId": "d7ba8f6d-f61c-4931-9f47-63470d3a9a72"
   },
   "outputs": [],
   "source": [
    "for d in random.sample(test_dataset_dicts, 2):    \n",
    "    img = cv2.imread(d[\"file_name\"])\n",
    "    outputs = predictor(img)\n",
    "    v = Visualizer(img[:, :, ::-1],\n",
    "                   metadata=microcontroller_metadata, \n",
    "                   scale=0.8, \n",
    "                   instance_mode=ColorMode.IMAGE_BW # removes the colors of unsegmented pixels\n",
    "    )\n",
    "    v = v.draw_instance_predictions(outputs[\"instances\"].to(\"cpu\"))\n",
    "\n",
    "    plt.figure(figsize=(25,25))\n",
    "    plt.imshow(cv2.cvtColor(v.get_image()[:, :, ::-1], cv2.COLOR_BGR2RGB))\n",
    "    plt.show()"
   ]
  },
  {
   "cell_type": "code",
   "execution_count": null,
   "metadata": {
    "id": "dDqreXOkZJIR"
   },
   "outputs": [],
   "source": []
  }
 ],
 "metadata": {
  "accelerator": "GPU",
  "colab": {
   "provenance": []
  },
  "kernelspec": {
   "display_name": ".venv",
   "language": "python",
   "name": "python3"
  },
  "language_info": {
   "codemirror_mode": {
    "name": "ipython",
    "version": 3
   },
   "file_extension": ".py",
   "mimetype": "text/x-python",
   "name": "python",
   "nbconvert_exporter": "python",
   "pygments_lexer": "ipython3",
   "version": "3.12.8"
  }
 },
 "nbformat": 4,
 "nbformat_minor": 0
}
