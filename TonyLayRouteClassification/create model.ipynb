{
 "cells": [
  {
   "cell_type": "markdown",
   "metadata": {
    "id": "MM-ePp1yT8e2"
   },
   "source": [
    "###**Preparing the dataset**\n",
    "\n",
    "Prepare the dataset using Labelme annotation tool (for Instance segmentation) and LabelImg for object detection.\n"
   ]
  },
  {
   "cell_type": "code",
   "execution_count": 1,
   "metadata": {
    "colab": {
     "base_uri": "https://localhost:8080/"
    },
    "executionInfo": {
     "elapsed": 20518,
     "status": "ok",
     "timestamp": 1678901058830,
     "user": {
      "displayName": "Tony Lay",
      "userId": "12991364819392579390"
     },
     "user_tz": 0
    },
    "id": "T3nCvm1mTbK_",
    "outputId": "cb09d087-f713-49b3-f51d-1e11b05a3bfc"
   },
   "outputs": [
    {
     "name": "stdout",
     "output_type": "stream",
     "text": [
      "Mounted at /content/drive\n"
     ]
    }
   ],
   "source": [
    "from google.colab import drive\n",
    "drive.mount('/content/drive')"
   ]
  },
  {
   "cell_type": "markdown",
   "metadata": {
    "id": "YTV4jWZMYMlu"
   },
   "source": [
    "###**Installing Detectron2 on Colab**"
   ]
  },
  {
   "cell_type": "code",
   "execution_count": 2,
   "metadata": {
    "colab": {
     "base_uri": "https://localhost:8080/"
    },
    "executionInfo": {
     "elapsed": 80609,
     "status": "ok",
     "timestamp": 1678901141199,
     "user": {
      "displayName": "Tony Lay",
      "userId": "12991364819392579390"
     },
     "user_tz": 0
    },
    "id": "6pjRZdeiYPPI",
    "outputId": "5d8cee94-60bd-470b-a7b3-aea90771ef01"
   },
   "outputs": [
    {
     "name": "stdout",
     "output_type": "stream",
     "text": [
      "Looking in indexes: https://pypi.org/simple, https://us-python.pkg.dev/colab-wheels/public/simple/\n",
      "Collecting pyyaml==5.1\n",
      "  Downloading PyYAML-5.1.tar.gz (274 kB)\n",
      "\u001b[2K     \u001b[90m━━━━━━━━━━━━━━━━━━━━━━━━━━━━━━━━━━━━━━━\u001b[0m \u001b[32m274.2/274.2 KB\u001b[0m \u001b[31m7.2 MB/s\u001b[0m eta \u001b[36m0:00:00\u001b[0m\n",
      "\u001b[?25h  Preparing metadata (setup.py) ... \u001b[?25l\u001b[?25hdone\n",
      "Building wheels for collected packages: pyyaml\n",
      "  Building wheel for pyyaml (setup.py) ... \u001b[?25l\u001b[?25hdone\n",
      "  Created wheel for pyyaml: filename=PyYAML-5.1-cp39-cp39-linux_x86_64.whl size=44088 sha256=baedbdfcb76d749dde71ea63cf470e9fabb499ceb45214442a603acbfec80bf7\n",
      "  Stored in directory: /root/.cache/pip/wheels/68/be/8f/b6c454cd264e0b349b47f8ee00755511f277618af9e5dae20d\n",
      "Successfully built pyyaml\n",
      "Installing collected packages: pyyaml\n",
      "  Attempting uninstall: pyyaml\n",
      "    Found existing installation: PyYAML 6.0\n",
      "    Uninstalling PyYAML-6.0:\n",
      "      Successfully uninstalled PyYAML-6.0\n",
      "\u001b[31mERROR: pip's dependency resolver does not currently take into account all the packages that are installed. This behaviour is the source of the following dependency conflicts.\n",
      "dask 2022.2.1 requires pyyaml>=5.3.1, but you have pyyaml 5.1 which is incompatible.\u001b[0m\u001b[31m\n",
      "\u001b[0mSuccessfully installed pyyaml-5.1\n",
      "Looking in indexes: https://pypi.org/simple, https://us-python.pkg.dev/colab-wheels/public/simple/\n",
      "Looking in links: https://download.pytorch.org/whl/torch_stable.html\n",
      "Collecting torch==1.8.0+cu101\n",
      "  Downloading https://download.pytorch.org/whl/cu101/torch-1.8.0%2Bcu101-cp39-cp39-linux_x86_64.whl (763.6 MB)\n",
      "\u001b[2K     \u001b[90m━━━━━━━━━━━━━━━━━━━━━━━━━━━━━━━━━━━━━━━\u001b[0m \u001b[32m763.6/763.6 MB\u001b[0m \u001b[31m2.1 MB/s\u001b[0m eta \u001b[36m0:00:00\u001b[0m\n",
      "\u001b[?25hCollecting torchvision==0.9.0+cu101\n",
      "  Downloading https://download.pytorch.org/whl/cu101/torchvision-0.9.0%2Bcu101-cp39-cp39-linux_x86_64.whl (17.3 MB)\n",
      "\u001b[2K     \u001b[90m━━━━━━━━━━━━━━━━━━━━━━━━━━━━━━━━━━━━━━━━\u001b[0m \u001b[32m17.3/17.3 MB\u001b[0m \u001b[31m40.5 MB/s\u001b[0m eta \u001b[36m0:00:00\u001b[0m\n",
      "\u001b[?25hRequirement already satisfied: typing-extensions in /usr/local/lib/python3.9/dist-packages (from torch==1.8.0+cu101) (4.5.0)\n",
      "Requirement already satisfied: numpy in /usr/local/lib/python3.9/dist-packages (from torch==1.8.0+cu101) (1.22.4)\n",
      "Requirement already satisfied: pillow>=4.1.1 in /usr/local/lib/python3.9/dist-packages (from torchvision==0.9.0+cu101) (8.4.0)\n",
      "Installing collected packages: torch, torchvision\n",
      "  Attempting uninstall: torch\n",
      "    Found existing installation: torch 1.13.1+cu116\n",
      "    Uninstalling torch-1.13.1+cu116:\n",
      "      Successfully uninstalled torch-1.13.1+cu116\n",
      "  Attempting uninstall: torchvision\n",
      "    Found existing installation: torchvision 0.14.1+cu116\n",
      "    Uninstalling torchvision-0.14.1+cu116:\n",
      "      Successfully uninstalled torchvision-0.14.1+cu116\n",
      "\u001b[31mERROR: pip's dependency resolver does not currently take into account all the packages that are installed. This behaviour is the source of the following dependency conflicts.\n",
      "torchtext 0.14.1 requires torch==1.13.1, but you have torch 1.8.0+cu101 which is incompatible.\n",
      "torchaudio 0.13.1+cu116 requires torch==1.13.1, but you have torch 1.8.0+cu101 which is incompatible.\u001b[0m\u001b[31m\n",
      "\u001b[0mSuccessfully installed torch-1.8.0+cu101 torchvision-0.9.0+cu101\n"
     ]
    }
   ],
   "source": [
    "!pip install pyyaml==5.1\n",
    "!pip install torch==1.8.0+cu101 torchvision==0.9.0+cu101 -f https://download.pytorch.org/whl/torch_stable.html\n",
    "#install old version of pytorch since detectron2 hasn't released packages for pytorch 1.9"
   ]
  },
  {
   "cell_type": "code",
   "execution_count": 3,
   "metadata": {
    "colab": {
     "base_uri": "https://localhost:8080/",
     "height": 1000
    },
    "executionInfo": {
     "elapsed": 20395,
     "status": "ok",
     "timestamp": 1678901161589,
     "user": {
      "displayName": "Tony Lay",
      "userId": "12991364819392579390"
     },
     "user_tz": 0
    },
    "id": "HpUGHZuwYZvS",
    "outputId": "56734bc1-1f3e-478f-c2de-cd9ec0562d1b"
   },
   "outputs": [
    {
     "name": "stdout",
     "output_type": "stream",
     "text": [
      "Looking in indexes: https://pypi.org/simple, https://us-python.pkg.dev/colab-wheels/public/simple/\n",
      "Looking in links: https://dl.fbaipublicfiles.com/detectron2/wheels/cu101/torch1.8/index.html\n",
      "Collecting detectron2\n",
      "  Downloading https://dl.fbaipublicfiles.com/detectron2/wheels/cu101/torch1.8/detectron2-0.6%2Bcu101-cp39-cp39-linux_x86_64.whl (6.1 MB)\n",
      "\u001b[2K     \u001b[90m━━━━━━━━━━━━━━━━━━━━━━━━━━━━━━━━━━━━━━━━\u001b[0m \u001b[32m6.1/6.1 MB\u001b[0m \u001b[31m13.0 MB/s\u001b[0m eta \u001b[36m0:00:00\u001b[0m\n",
      "\u001b[?25hRequirement already satisfied: pycocotools>=2.0.2 in /usr/local/lib/python3.9/dist-packages (from detectron2) (2.0.6)\n",
      "Requirement already satisfied: termcolor>=1.1 in /usr/local/lib/python3.9/dist-packages (from detectron2) (2.2.0)\n",
      "Requirement already satisfied: future in /usr/local/lib/python3.9/dist-packages (from detectron2) (0.16.0)\n",
      "Requirement already satisfied: tabulate in /usr/local/lib/python3.9/dist-packages (from detectron2) (0.8.10)\n",
      "Collecting black==21.4b2\n",
      "  Downloading black-21.4b2-py3-none-any.whl (130 kB)\n",
      "\u001b[2K     \u001b[90m━━━━━━━━━━━━━━━━━━━━━━━━━━━━━━━━━━━━━━━\u001b[0m \u001b[32m131.0/131.0 KB\u001b[0m \u001b[31m4.7 MB/s\u001b[0m eta \u001b[36m0:00:00\u001b[0m\n",
      "\u001b[?25hCollecting omegaconf>=2.1\n",
      "  Downloading omegaconf-2.3.0-py3-none-any.whl (79 kB)\n",
      "\u001b[2K     \u001b[90m━━━━━━━━━━━━━━━━━━━━━━━━━━━━━━━━━━━━━━━━\u001b[0m \u001b[32m79.5/79.5 KB\u001b[0m \u001b[31m10.6 MB/s\u001b[0m eta \u001b[36m0:00:00\u001b[0m\n",
      "\u001b[?25hRequirement already satisfied: Pillow>=7.1 in /usr/local/lib/python3.9/dist-packages (from detectron2) (8.4.0)\n",
      "Requirement already satisfied: pydot in /usr/local/lib/python3.9/dist-packages (from detectron2) (1.3.0)\n",
      "Requirement already satisfied: tqdm>4.29.0 in /usr/local/lib/python3.9/dist-packages (from detectron2) (4.65.0)\n",
      "Requirement already satisfied: tensorboard in /usr/local/lib/python3.9/dist-packages (from detectron2) (2.11.2)\n",
      "Requirement already satisfied: matplotlib in /usr/local/lib/python3.9/dist-packages (from detectron2) (3.5.3)\n",
      "Collecting iopath<0.1.10,>=0.1.7\n",
      "  Downloading iopath-0.1.9-py3-none-any.whl (27 kB)\n",
      "Collecting hydra-core>=1.1\n",
      "  Downloading hydra_core-1.3.2-py3-none-any.whl (154 kB)\n",
      "\u001b[2K     \u001b[90m━━━━━━━━━━━━━━━━━━━━━━━━━━━━━━━━━━━━━━\u001b[0m \u001b[32m154.5/154.5 KB\u001b[0m \u001b[31m18.4 MB/s\u001b[0m eta \u001b[36m0:00:00\u001b[0m\n",
      "\u001b[?25hCollecting fvcore<0.1.6,>=0.1.5\n",
      "  Downloading fvcore-0.1.5.post20221221.tar.gz (50 kB)\n",
      "\u001b[2K     \u001b[90m━━━━━━━━━━━━━━━━━━━━━━━━━━━━━━━━━━━━━━━━\u001b[0m \u001b[32m50.2/50.2 KB\u001b[0m \u001b[31m7.0 MB/s\u001b[0m eta \u001b[36m0:00:00\u001b[0m\n",
      "\u001b[?25h  Preparing metadata (setup.py) ... \u001b[?25l\u001b[?25hdone\n",
      "Collecting yacs>=0.1.8\n",
      "  Downloading yacs-0.1.8-py3-none-any.whl (14 kB)\n",
      "Requirement already satisfied: cloudpickle in /usr/local/lib/python3.9/dist-packages (from detectron2) (2.2.1)\n",
      "Requirement already satisfied: toml>=0.10.1 in /usr/local/lib/python3.9/dist-packages (from black==21.4b2->detectron2) (0.10.2)\n",
      "Requirement already satisfied: click>=7.1.2 in /usr/local/lib/python3.9/dist-packages (from black==21.4b2->detectron2) (8.1.3)\n",
      "Collecting pathspec<1,>=0.8.1\n",
      "  Downloading pathspec-0.11.1-py3-none-any.whl (29 kB)\n",
      "Collecting mypy-extensions>=0.4.3\n",
      "  Downloading mypy_extensions-1.0.0-py3-none-any.whl (4.7 kB)\n",
      "Collecting appdirs\n",
      "  Downloading appdirs-1.4.4-py2.py3-none-any.whl (9.6 kB)\n",
      "Requirement already satisfied: regex>=2020.1.8 in /usr/local/lib/python3.9/dist-packages (from black==21.4b2->detectron2) (2022.6.2)\n",
      "Requirement already satisfied: numpy in /usr/local/lib/python3.9/dist-packages (from fvcore<0.1.6,>=0.1.5->detectron2) (1.22.4)\n",
      "Requirement already satisfied: pyyaml>=5.1 in /usr/local/lib/python3.9/dist-packages (from fvcore<0.1.6,>=0.1.5->detectron2) (5.1)\n",
      "Requirement already satisfied: packaging in /usr/local/lib/python3.9/dist-packages (from hydra-core>=1.1->detectron2) (23.0)\n",
      "Collecting antlr4-python3-runtime==4.9.*\n",
      "  Downloading antlr4-python3-runtime-4.9.3.tar.gz (117 kB)\n",
      "\u001b[2K     \u001b[90m━━━━━━━━━━━━━━━━━━━━━━━━━━━━━━━━━━━━━━━\u001b[0m \u001b[32m117.0/117.0 KB\u001b[0m \u001b[31m6.6 MB/s\u001b[0m eta \u001b[36m0:00:00\u001b[0m\n",
      "\u001b[?25h  Preparing metadata (setup.py) ... \u001b[?25l\u001b[?25hdone\n",
      "Collecting portalocker\n",
      "  Downloading portalocker-2.7.0-py2.py3-none-any.whl (15 kB)\n",
      "Requirement already satisfied: python-dateutil>=2.7 in /usr/local/lib/python3.9/dist-packages (from matplotlib->detectron2) (2.8.2)\n",
      "Requirement already satisfied: kiwisolver>=1.0.1 in /usr/local/lib/python3.9/dist-packages (from matplotlib->detectron2) (1.4.4)\n",
      "Requirement already satisfied: fonttools>=4.22.0 in /usr/local/lib/python3.9/dist-packages (from matplotlib->detectron2) (4.39.0)\n",
      "Requirement already satisfied: pyparsing>=2.2.1 in /usr/local/lib/python3.9/dist-packages (from matplotlib->detectron2) (3.0.9)\n",
      "Requirement already satisfied: cycler>=0.10 in /usr/local/lib/python3.9/dist-packages (from matplotlib->detectron2) (0.11.0)\n",
      "Requirement already satisfied: absl-py>=0.4 in /usr/local/lib/python3.9/dist-packages (from tensorboard->detectron2) (1.4.0)\n",
      "Requirement already satisfied: protobuf<4,>=3.9.2 in /usr/local/lib/python3.9/dist-packages (from tensorboard->detectron2) (3.19.6)\n",
      "Requirement already satisfied: markdown>=2.6.8 in /usr/local/lib/python3.9/dist-packages (from tensorboard->detectron2) (3.4.1)\n",
      "Requirement already satisfied: werkzeug>=1.0.1 in /usr/local/lib/python3.9/dist-packages (from tensorboard->detectron2) (2.2.3)\n",
      "Requirement already satisfied: tensorboard-plugin-wit>=1.6.0 in /usr/local/lib/python3.9/dist-packages (from tensorboard->detectron2) (1.8.1)\n",
      "Requirement already satisfied: requests<3,>=2.21.0 in /usr/local/lib/python3.9/dist-packages (from tensorboard->detectron2) (2.25.1)\n",
      "Requirement already satisfied: google-auth-oauthlib<0.5,>=0.4.1 in /usr/local/lib/python3.9/dist-packages (from tensorboard->detectron2) (0.4.6)\n",
      "Requirement already satisfied: tensorboard-data-server<0.7.0,>=0.6.0 in /usr/local/lib/python3.9/dist-packages (from tensorboard->detectron2) (0.6.1)\n",
      "Requirement already satisfied: grpcio>=1.24.3 in /usr/local/lib/python3.9/dist-packages (from tensorboard->detectron2) (1.51.3)\n",
      "Requirement already satisfied: google-auth<3,>=1.6.3 in /usr/local/lib/python3.9/dist-packages (from tensorboard->detectron2) (2.16.2)\n",
      "Requirement already satisfied: setuptools>=41.0.0 in /usr/local/lib/python3.9/dist-packages (from tensorboard->detectron2) (63.4.3)\n",
      "Requirement already satisfied: wheel>=0.26 in /usr/local/lib/python3.9/dist-packages (from tensorboard->detectron2) (0.38.4)\n",
      "Requirement already satisfied: six>=1.9.0 in /usr/local/lib/python3.9/dist-packages (from google-auth<3,>=1.6.3->tensorboard->detectron2) (1.15.0)\n",
      "Requirement already satisfied: rsa<5,>=3.1.4 in /usr/local/lib/python3.9/dist-packages (from google-auth<3,>=1.6.3->tensorboard->detectron2) (4.9)\n",
      "Requirement already satisfied: pyasn1-modules>=0.2.1 in /usr/local/lib/python3.9/dist-packages (from google-auth<3,>=1.6.3->tensorboard->detectron2) (0.2.8)\n",
      "Requirement already satisfied: cachetools<6.0,>=2.0.0 in /usr/local/lib/python3.9/dist-packages (from google-auth<3,>=1.6.3->tensorboard->detectron2) (5.3.0)\n",
      "Requirement already satisfied: requests-oauthlib>=0.7.0 in /usr/local/lib/python3.9/dist-packages (from google-auth-oauthlib<0.5,>=0.4.1->tensorboard->detectron2) (1.3.1)\n",
      "Requirement already satisfied: importlib-metadata>=4.4 in /usr/local/lib/python3.9/dist-packages (from markdown>=2.6.8->tensorboard->detectron2) (6.0.0)\n",
      "Requirement already satisfied: certifi>=2017.4.17 in /usr/local/lib/python3.9/dist-packages (from requests<3,>=2.21.0->tensorboard->detectron2) (2022.12.7)\n",
      "Requirement already satisfied: chardet<5,>=3.0.2 in /usr/local/lib/python3.9/dist-packages (from requests<3,>=2.21.0->tensorboard->detectron2) (4.0.0)\n",
      "Requirement already satisfied: idna<3,>=2.5 in /usr/local/lib/python3.9/dist-packages (from requests<3,>=2.21.0->tensorboard->detectron2) (2.10)\n",
      "Requirement already satisfied: urllib3<1.27,>=1.21.1 in /usr/local/lib/python3.9/dist-packages (from requests<3,>=2.21.0->tensorboard->detectron2) (1.26.15)\n",
      "Requirement already satisfied: MarkupSafe>=2.1.1 in /usr/local/lib/python3.9/dist-packages (from werkzeug>=1.0.1->tensorboard->detectron2) (2.1.2)\n",
      "Requirement already satisfied: zipp>=0.5 in /usr/local/lib/python3.9/dist-packages (from importlib-metadata>=4.4->markdown>=2.6.8->tensorboard->detectron2) (3.15.0)\n",
      "Requirement already satisfied: pyasn1<0.5.0,>=0.4.6 in /usr/local/lib/python3.9/dist-packages (from pyasn1-modules>=0.2.1->google-auth<3,>=1.6.3->tensorboard->detectron2) (0.4.8)\n",
      "Requirement already satisfied: oauthlib>=3.0.0 in /usr/local/lib/python3.9/dist-packages (from requests-oauthlib>=0.7.0->google-auth-oauthlib<0.5,>=0.4.1->tensorboard->detectron2) (3.2.2)\n",
      "Building wheels for collected packages: fvcore, antlr4-python3-runtime\n",
      "  Building wheel for fvcore (setup.py) ... \u001b[?25l\u001b[?25hdone\n",
      "  Created wheel for fvcore: filename=fvcore-0.1.5.post20221221-py3-none-any.whl size=61430 sha256=bd0318f3ea5b74ecab34b7b24d8ee9b00ece8a1bc01dd8dba6f190b07551a376\n",
      "  Stored in directory: /root/.cache/pip/wheels/83/42/02/66178d16e5c44dc26d309931834956baeda371956e86fbd876\n",
      "  Building wheel for antlr4-python3-runtime (setup.py) ... \u001b[?25l\u001b[?25hdone\n",
      "  Created wheel for antlr4-python3-runtime: filename=antlr4_python3_runtime-4.9.3-py3-none-any.whl size=144573 sha256=1f60cdc5929b904fa276e008997014809f6220d696a33b04910a5b0733849810\n",
      "  Stored in directory: /root/.cache/pip/wheels/23/cf/80/f3efa822e6ab23277902ee9165fe772eeb1dfb8014f359020a\n",
      "Successfully built fvcore antlr4-python3-runtime\n",
      "Installing collected packages: appdirs, antlr4-python3-runtime, yacs, portalocker, pathspec, omegaconf, mypy-extensions, iopath, hydra-core, black, fvcore, detectron2\n",
      "Successfully installed antlr4-python3-runtime-4.9.3 appdirs-1.4.4 black-21.4b2 detectron2-0.6+cu101 fvcore-0.1.5.post20221221 hydra-core-1.3.2 iopath-0.1.9 mypy-extensions-1.0.0 omegaconf-2.3.0 pathspec-0.11.1 portalocker-2.7.0 yacs-0.1.8\n"
     ]
    },
    {
     "data": {
      "application/vnd.colab-display-data+json": {
       "pip_warning": {
        "packages": [
         "pydevd_plugins"
        ]
       }
      }
     },
     "metadata": {},
     "output_type": "display_data"
    }
   ],
   "source": [
    "!pip install detectron2 -f https://dl.fbaipublicfiles.com/detectron2/wheels/cu101/torch1.8/index.html\n",
    "# After this step it will ask you to restart the runtime, please do it."
   ]
  },
  {
   "cell_type": "code",
   "execution_count": 1,
   "metadata": {
    "executionInfo": {
     "elapsed": 1906,
     "status": "ok",
     "timestamp": 1678903001124,
     "user": {
      "displayName": "Tony Lay",
      "userId": "12991364819392579390"
     },
     "user_tz": 0
    },
    "id": "KGheWs13YoM9"
   },
   "outputs": [],
   "source": [
    "import torch\n",
    "assert torch.__version__.startswith(\"1.8\") \n",
    "import torchvision\n",
    "import cv2"
   ]
  },
  {
   "cell_type": "markdown",
   "metadata": {
    "id": "03jcsFg9X-9v"
   },
   "source": [
    "###**Register the data to Detectron2 config**"
   ]
  },
  {
   "cell_type": "code",
   "execution_count": 2,
   "metadata": {
    "executionInfo": {
     "elapsed": 802,
     "status": "ok",
     "timestamp": 1678903001924,
     "user": {
      "displayName": "Tony Lay",
      "userId": "12991364819392579390"
     },
     "user_tz": 0
    },
    "id": "UPhV9QzOTggW"
   },
   "outputs": [],
   "source": [
    "import os\n",
    "import numpy as np\n",
    "import json\n",
    "import random\n",
    "import matplotlib.pyplot as plt\n",
    "%matplotlib inline\n",
    "\n",
    "from detectron2.structures import BoxMode\n",
    "from detectron2.data import DatasetCatalog, MetadataCatalog"
   ]
  },
  {
   "cell_type": "code",
   "execution_count": 3,
   "metadata": {
    "executionInfo": {
     "elapsed": 3,
     "status": "ok",
     "timestamp": 1678903001925,
     "user": {
      "displayName": "Tony Lay",
      "userId": "12991364819392579390"
     },
     "user_tz": 0
    },
    "id": "jPDbZ10mTgdf"
   },
   "outputs": [],
   "source": [
    "def get_data_dicts(directory, classes):\n",
    "    dataset_dicts = []\n",
    "    for filename in [file for file in os.listdir(directory) if file.endswith('.json')]:\n",
    "        json_file = os.path.join(directory, filename)\n",
    "        with open(json_file) as f:\n",
    "            img_anns = json.load(f)\n",
    "\n",
    "        record = {}\n",
    "        \n",
    "        filename = os.path.join(directory, img_anns[\"imagePath\"])\n",
    "        \n",
    "        record[\"file_name\"] = filename\n",
    "        record[\"height\"] = img_anns[\"imageHeight\"]\n",
    "        record[\"width\"] = img_anns[\"imageWidth\"]\n",
    "      \n",
    "        annos = img_anns[\"shapes\"]\n",
    "        objs = []\n",
    "        for anno in annos:\n",
    "            px = [a[0] for a in anno['points']] # x coord\n",
    "            py = [a[1] for a in anno['points']] # y-coord\n",
    "            poly = [(x, y) for x, y in zip(px, py)] # poly for segmentation\n",
    "            poly = [p for x in poly for p in x]\n",
    "\n",
    "            obj = {\n",
    "                \"bbox\": [np.min(px), np.min(py), np.max(px), np.max(py)],\n",
    "                \"bbox_mode\": BoxMode.XYXY_ABS,\n",
    "                \"segmentation\": [poly],\n",
    "                \"category_id\": classes.index(anno['label']),\n",
    "                \"iscrowd\": 0\n",
    "            }\n",
    "            objs.append(obj)\n",
    "        record[\"annotations\"] = objs\n",
    "        dataset_dicts.append(record)\n",
    "    return dataset_dicts"
   ]
  },
  {
   "cell_type": "code",
   "execution_count": 4,
   "metadata": {
    "executionInfo": {
     "elapsed": 345,
     "status": "ok",
     "timestamp": 1678903004058,
     "user": {
      "displayName": "Tony Lay",
      "userId": "12991364819392579390"
     },
     "user_tz": 0
    },
    "id": "NGt-e47XTgas"
   },
   "outputs": [],
   "source": [
    "classes = ['jug','easy_foothold','sloper','large_sloper','easy_edge','crimp_edge','edge_large_sloper','crimp','u_edge','easy_sloper','double_sided_jug','pinch_sloper','foothold','double_sided_sloper','edge','curve_edge_sloper','pocket','pinch','edge_sloper','volume','large_moon_edge','platform']\n",
    "\n",
    "data_path = '/content/drive/MyDrive/Third Year Project/slab_images/'\n",
    "\n",
    "DatasetCatalog.clear()\n",
    "MetadataCatalog.clear()\n",
    "\n",
    "for d in [\"train\", \"test\"]:\n",
    "    DatasetCatalog.register(\n",
    "        \"category_\" + d, \n",
    "        lambda d=d: get_data_dicts(data_path+d, classes)\n",
    "    )\n",
    "    MetadataCatalog.get(\"category_\" + d).set(thing_classes=classes)\n",
    "\n",
    "microcontroller_metadata = MetadataCatalog.get(\"category_train\")"
   ]
  },
  {
   "cell_type": "markdown",
   "metadata": {
    "id": "BUDK8zsnbGG6"
   },
   "source": [
    "###**Training the Detectron2 Instance Segmentation Model**"
   ]
  },
  {
   "cell_type": "code",
   "execution_count": 5,
   "metadata": {
    "executionInfo": {
     "elapsed": 200,
     "status": "ok",
     "timestamp": 1678903009719,
     "user": {
      "displayName": "Tony Lay",
      "userId": "12991364819392579390"
     },
     "user_tz": 0
    },
    "id": "Nm3OOWjXTgZZ"
   },
   "outputs": [],
   "source": [
    "from detectron2 import model_zoo\n",
    "from detectron2.engine import DefaultTrainer, DefaultPredictor\n",
    "from detectron2.config import get_cfg, LazyConfig\n",
    "from detectron2.utils.visualizer import ColorMode, Visualizer\n",
    "from detectron2.data import transforms as T\n",
    "from detectron2.data import build_detection_train_loader, DatasetMapper"
   ]
  },
  {
   "cell_type": "code",
   "execution_count": 6,
   "metadata": {
    "colab": {
     "base_uri": "https://localhost:8080/"
    },
    "executionInfo": {
     "elapsed": 248,
     "status": "ok",
     "timestamp": 1678903013582,
     "user": {
      "displayName": "Tony Lay",
      "userId": "12991364819392579390"
     },
     "user_tz": 0
    },
    "id": "tZswZczBTgWx",
    "outputId": "285ccf47-8627-448e-98cd-75de02fc4ba6"
   },
   "outputs": [
    {
     "name": "stdout",
     "output_type": "stream",
     "text": [
      "22\n"
     ]
    }
   ],
   "source": [
    "cfg = get_cfg()\n",
    "cfg.merge_from_file(model_zoo.get_config_file(\"COCO-InstanceSegmentation/mask_rcnn_R_50_FPN_3x.yaml\"))\n",
    "cfg.DATASETS.TRAIN = (\"category_train\",)\n",
    "cfg.DATASETS.TEST = ()\n",
    "cfg.DATALOADER.NUM_WORKERS = 2\n",
    "cfg.MODEL.WEIGHTS = model_zoo.get_checkpoint_url(\"COCO-InstanceSegmentation/mask_rcnn_R_50_FPN_3x.yaml\")\n",
    "cfg.SOLVER.IMS_PER_BATCH = 2\n",
    "cfg.SOLVER.BASE_LR = 0.00025\n",
    "cfg.SOLVER.MAX_ITER = 5000\n",
    "cfg.MODEL.ROI_HEADS.NUM_CLASSES = len(classes)\n",
    "print(len(classes))"
   ]
  },
  {
   "cell_type": "markdown",
   "metadata": {
    "id": "jjQQVTHsMpN7"
   },
   "source": [
    "###**Setup custom Trainer for image augmentation**"
   ]
  },
  {
   "cell_type": "code",
   "execution_count": 7,
   "metadata": {
    "executionInfo": {
     "elapsed": 749,
     "status": "ok",
     "timestamp": 1678903017512,
     "user": {
      "displayName": "Tony Lay",
      "userId": "12991364819392579390"
     },
     "user_tz": 0
    },
    "id": "6-r_zYClM2Xu"
   },
   "outputs": [],
   "source": [
    "class AugmentedTrainer(DefaultTrainer):\n",
    "\n",
    "    @classmethod\n",
    "    def build_train_loader(cls, cfg):\n",
    "      augmentation_list = [\n",
    "        T.Resize((1300,800)),\n",
    "        T.RandomBrightness(0.5, 2),\n",
    "        T.RandomContrast(0.5, 2),\n",
    "        T.RandomSaturation(0.5, 2),\n",
    "        T.RandomFlip(prob=0.5, horizontal=True, vertical=False),\n",
    "        T.RandomFlip(prob=0.5, horizontal=False, vertical=True),\n",
    "        T.RandomLighting(0.7),\n",
    "      ]\n",
    "      mapper = DatasetMapper(cfg, is_train=True, augmentations=augmentation_list)\n",
    "      return build_detection_train_loader(cfg, mapper=mapper)"
   ]
  },
  {
   "cell_type": "code",
   "execution_count": 8,
   "metadata": {
    "colab": {
     "base_uri": "https://localhost:8080/"
    },
    "executionInfo": {
     "elapsed": 10603,
     "status": "ok",
     "timestamp": 1678903034694,
     "user": {
      "displayName": "Tony Lay",
      "userId": "12991364819392579390"
     },
     "user_tz": 0
    },
    "id": "W4AzNO35bm98",
    "outputId": "e336b4c3-d2f0-4ce3-b5cc-01b16f723f6c"
   },
   "outputs": [
    {
     "name": "stdout",
     "output_type": "stream",
     "text": [
      "[03/15 17:57:10 d2.engine.defaults]: Model:\n",
      "GeneralizedRCNN(\n",
      "  (backbone): FPN(\n",
      "    (fpn_lateral2): Conv2d(256, 256, kernel_size=(1, 1), stride=(1, 1))\n",
      "    (fpn_output2): Conv2d(256, 256, kernel_size=(3, 3), stride=(1, 1), padding=(1, 1))\n",
      "    (fpn_lateral3): Conv2d(512, 256, kernel_size=(1, 1), stride=(1, 1))\n",
      "    (fpn_output3): Conv2d(256, 256, kernel_size=(3, 3), stride=(1, 1), padding=(1, 1))\n",
      "    (fpn_lateral4): Conv2d(1024, 256, kernel_size=(1, 1), stride=(1, 1))\n",
      "    (fpn_output4): Conv2d(256, 256, kernel_size=(3, 3), stride=(1, 1), padding=(1, 1))\n",
      "    (fpn_lateral5): Conv2d(2048, 256, kernel_size=(1, 1), stride=(1, 1))\n",
      "    (fpn_output5): Conv2d(256, 256, kernel_size=(3, 3), stride=(1, 1), padding=(1, 1))\n",
      "    (top_block): LastLevelMaxPool()\n",
      "    (bottom_up): ResNet(\n",
      "      (stem): BasicStem(\n",
      "        (conv1): Conv2d(\n",
      "          3, 64, kernel_size=(7, 7), stride=(2, 2), padding=(3, 3), bias=False\n",
      "          (norm): FrozenBatchNorm2d(num_features=64, eps=1e-05)\n",
      "        )\n",
      "      )\n",
      "      (res2): Sequential(\n",
      "        (0): BottleneckBlock(\n",
      "          (shortcut): Conv2d(\n",
      "            64, 256, kernel_size=(1, 1), stride=(1, 1), bias=False\n",
      "            (norm): FrozenBatchNorm2d(num_features=256, eps=1e-05)\n",
      "          )\n",
      "          (conv1): Conv2d(\n",
      "            64, 64, kernel_size=(1, 1), stride=(1, 1), bias=False\n",
      "            (norm): FrozenBatchNorm2d(num_features=64, eps=1e-05)\n",
      "          )\n",
      "          (conv2): Conv2d(\n",
      "            64, 64, kernel_size=(3, 3), stride=(1, 1), padding=(1, 1), bias=False\n",
      "            (norm): FrozenBatchNorm2d(num_features=64, eps=1e-05)\n",
      "          )\n",
      "          (conv3): Conv2d(\n",
      "            64, 256, kernel_size=(1, 1), stride=(1, 1), bias=False\n",
      "            (norm): FrozenBatchNorm2d(num_features=256, eps=1e-05)\n",
      "          )\n",
      "        )\n",
      "        (1): BottleneckBlock(\n",
      "          (conv1): Conv2d(\n",
      "            256, 64, kernel_size=(1, 1), stride=(1, 1), bias=False\n",
      "            (norm): FrozenBatchNorm2d(num_features=64, eps=1e-05)\n",
      "          )\n",
      "          (conv2): Conv2d(\n",
      "            64, 64, kernel_size=(3, 3), stride=(1, 1), padding=(1, 1), bias=False\n",
      "            (norm): FrozenBatchNorm2d(num_features=64, eps=1e-05)\n",
      "          )\n",
      "          (conv3): Conv2d(\n",
      "            64, 256, kernel_size=(1, 1), stride=(1, 1), bias=False\n",
      "            (norm): FrozenBatchNorm2d(num_features=256, eps=1e-05)\n",
      "          )\n",
      "        )\n",
      "        (2): BottleneckBlock(\n",
      "          (conv1): Conv2d(\n",
      "            256, 64, kernel_size=(1, 1), stride=(1, 1), bias=False\n",
      "            (norm): FrozenBatchNorm2d(num_features=64, eps=1e-05)\n",
      "          )\n",
      "          (conv2): Conv2d(\n",
      "            64, 64, kernel_size=(3, 3), stride=(1, 1), padding=(1, 1), bias=False\n",
      "            (norm): FrozenBatchNorm2d(num_features=64, eps=1e-05)\n",
      "          )\n",
      "          (conv3): Conv2d(\n",
      "            64, 256, kernel_size=(1, 1), stride=(1, 1), bias=False\n",
      "            (norm): FrozenBatchNorm2d(num_features=256, eps=1e-05)\n",
      "          )\n",
      "        )\n",
      "      )\n",
      "      (res3): Sequential(\n",
      "        (0): BottleneckBlock(\n",
      "          (shortcut): Conv2d(\n",
      "            256, 512, kernel_size=(1, 1), stride=(2, 2), bias=False\n",
      "            (norm): FrozenBatchNorm2d(num_features=512, eps=1e-05)\n",
      "          )\n",
      "          (conv1): Conv2d(\n",
      "            256, 128, kernel_size=(1, 1), stride=(2, 2), bias=False\n",
      "            (norm): FrozenBatchNorm2d(num_features=128, eps=1e-05)\n",
      "          )\n",
      "          (conv2): Conv2d(\n",
      "            128, 128, kernel_size=(3, 3), stride=(1, 1), padding=(1, 1), bias=False\n",
      "            (norm): FrozenBatchNorm2d(num_features=128, eps=1e-05)\n",
      "          )\n",
      "          (conv3): Conv2d(\n",
      "            128, 512, kernel_size=(1, 1), stride=(1, 1), bias=False\n",
      "            (norm): FrozenBatchNorm2d(num_features=512, eps=1e-05)\n",
      "          )\n",
      "        )\n",
      "        (1): BottleneckBlock(\n",
      "          (conv1): Conv2d(\n",
      "            512, 128, kernel_size=(1, 1), stride=(1, 1), bias=False\n",
      "            (norm): FrozenBatchNorm2d(num_features=128, eps=1e-05)\n",
      "          )\n",
      "          (conv2): Conv2d(\n",
      "            128, 128, kernel_size=(3, 3), stride=(1, 1), padding=(1, 1), bias=False\n",
      "            (norm): FrozenBatchNorm2d(num_features=128, eps=1e-05)\n",
      "          )\n",
      "          (conv3): Conv2d(\n",
      "            128, 512, kernel_size=(1, 1), stride=(1, 1), bias=False\n",
      "            (norm): FrozenBatchNorm2d(num_features=512, eps=1e-05)\n",
      "          )\n",
      "        )\n",
      "        (2): BottleneckBlock(\n",
      "          (conv1): Conv2d(\n",
      "            512, 128, kernel_size=(1, 1), stride=(1, 1), bias=False\n",
      "            (norm): FrozenBatchNorm2d(num_features=128, eps=1e-05)\n",
      "          )\n",
      "          (conv2): Conv2d(\n",
      "            128, 128, kernel_size=(3, 3), stride=(1, 1), padding=(1, 1), bias=False\n",
      "            (norm): FrozenBatchNorm2d(num_features=128, eps=1e-05)\n",
      "          )\n",
      "          (conv3): Conv2d(\n",
      "            128, 512, kernel_size=(1, 1), stride=(1, 1), bias=False\n",
      "            (norm): FrozenBatchNorm2d(num_features=512, eps=1e-05)\n",
      "          )\n",
      "        )\n",
      "        (3): BottleneckBlock(\n",
      "          (conv1): Conv2d(\n",
      "            512, 128, kernel_size=(1, 1), stride=(1, 1), bias=False\n",
      "            (norm): FrozenBatchNorm2d(num_features=128, eps=1e-05)\n",
      "          )\n",
      "          (conv2): Conv2d(\n",
      "            128, 128, kernel_size=(3, 3), stride=(1, 1), padding=(1, 1), bias=False\n",
      "            (norm): FrozenBatchNorm2d(num_features=128, eps=1e-05)\n",
      "          )\n",
      "          (conv3): Conv2d(\n",
      "            128, 512, kernel_size=(1, 1), stride=(1, 1), bias=False\n",
      "            (norm): FrozenBatchNorm2d(num_features=512, eps=1e-05)\n",
      "          )\n",
      "        )\n",
      "      )\n",
      "      (res4): Sequential(\n",
      "        (0): BottleneckBlock(\n",
      "          (shortcut): Conv2d(\n",
      "            512, 1024, kernel_size=(1, 1), stride=(2, 2), bias=False\n",
      "            (norm): FrozenBatchNorm2d(num_features=1024, eps=1e-05)\n",
      "          )\n",
      "          (conv1): Conv2d(\n",
      "            512, 256, kernel_size=(1, 1), stride=(2, 2), bias=False\n",
      "            (norm): FrozenBatchNorm2d(num_features=256, eps=1e-05)\n",
      "          )\n",
      "          (conv2): Conv2d(\n",
      "            256, 256, kernel_size=(3, 3), stride=(1, 1), padding=(1, 1), bias=False\n",
      "            (norm): FrozenBatchNorm2d(num_features=256, eps=1e-05)\n",
      "          )\n",
      "          (conv3): Conv2d(\n",
      "            256, 1024, kernel_size=(1, 1), stride=(1, 1), bias=False\n",
      "            (norm): FrozenBatchNorm2d(num_features=1024, eps=1e-05)\n",
      "          )\n",
      "        )\n",
      "        (1): BottleneckBlock(\n",
      "          (conv1): Conv2d(\n",
      "            1024, 256, kernel_size=(1, 1), stride=(1, 1), bias=False\n",
      "            (norm): FrozenBatchNorm2d(num_features=256, eps=1e-05)\n",
      "          )\n",
      "          (conv2): Conv2d(\n",
      "            256, 256, kernel_size=(3, 3), stride=(1, 1), padding=(1, 1), bias=False\n",
      "            (norm): FrozenBatchNorm2d(num_features=256, eps=1e-05)\n",
      "          )\n",
      "          (conv3): Conv2d(\n",
      "            256, 1024, kernel_size=(1, 1), stride=(1, 1), bias=False\n",
      "            (norm): FrozenBatchNorm2d(num_features=1024, eps=1e-05)\n",
      "          )\n",
      "        )\n",
      "        (2): BottleneckBlock(\n",
      "          (conv1): Conv2d(\n",
      "            1024, 256, kernel_size=(1, 1), stride=(1, 1), bias=False\n",
      "            (norm): FrozenBatchNorm2d(num_features=256, eps=1e-05)\n",
      "          )\n",
      "          (conv2): Conv2d(\n",
      "            256, 256, kernel_size=(3, 3), stride=(1, 1), padding=(1, 1), bias=False\n",
      "            (norm): FrozenBatchNorm2d(num_features=256, eps=1e-05)\n",
      "          )\n",
      "          (conv3): Conv2d(\n",
      "            256, 1024, kernel_size=(1, 1), stride=(1, 1), bias=False\n",
      "            (norm): FrozenBatchNorm2d(num_features=1024, eps=1e-05)\n",
      "          )\n",
      "        )\n",
      "        (3): BottleneckBlock(\n",
      "          (conv1): Conv2d(\n",
      "            1024, 256, kernel_size=(1, 1), stride=(1, 1), bias=False\n",
      "            (norm): FrozenBatchNorm2d(num_features=256, eps=1e-05)\n",
      "          )\n",
      "          (conv2): Conv2d(\n",
      "            256, 256, kernel_size=(3, 3), stride=(1, 1), padding=(1, 1), bias=False\n",
      "            (norm): FrozenBatchNorm2d(num_features=256, eps=1e-05)\n",
      "          )\n",
      "          (conv3): Conv2d(\n",
      "            256, 1024, kernel_size=(1, 1), stride=(1, 1), bias=False\n",
      "            (norm): FrozenBatchNorm2d(num_features=1024, eps=1e-05)\n",
      "          )\n",
      "        )\n",
      "        (4): BottleneckBlock(\n",
      "          (conv1): Conv2d(\n",
      "            1024, 256, kernel_size=(1, 1), stride=(1, 1), bias=False\n",
      "            (norm): FrozenBatchNorm2d(num_features=256, eps=1e-05)\n",
      "          )\n",
      "          (conv2): Conv2d(\n",
      "            256, 256, kernel_size=(3, 3), stride=(1, 1), padding=(1, 1), bias=False\n",
      "            (norm): FrozenBatchNorm2d(num_features=256, eps=1e-05)\n",
      "          )\n",
      "          (conv3): Conv2d(\n",
      "            256, 1024, kernel_size=(1, 1), stride=(1, 1), bias=False\n",
      "            (norm): FrozenBatchNorm2d(num_features=1024, eps=1e-05)\n",
      "          )\n",
      "        )\n",
      "        (5): BottleneckBlock(\n",
      "          (conv1): Conv2d(\n",
      "            1024, 256, kernel_size=(1, 1), stride=(1, 1), bias=False\n",
      "            (norm): FrozenBatchNorm2d(num_features=256, eps=1e-05)\n",
      "          )\n",
      "          (conv2): Conv2d(\n",
      "            256, 256, kernel_size=(3, 3), stride=(1, 1), padding=(1, 1), bias=False\n",
      "            (norm): FrozenBatchNorm2d(num_features=256, eps=1e-05)\n",
      "          )\n",
      "          (conv3): Conv2d(\n",
      "            256, 1024, kernel_size=(1, 1), stride=(1, 1), bias=False\n",
      "            (norm): FrozenBatchNorm2d(num_features=1024, eps=1e-05)\n",
      "          )\n",
      "        )\n",
      "      )\n",
      "      (res5): Sequential(\n",
      "        (0): BottleneckBlock(\n",
      "          (shortcut): Conv2d(\n",
      "            1024, 2048, kernel_size=(1, 1), stride=(2, 2), bias=False\n",
      "            (norm): FrozenBatchNorm2d(num_features=2048, eps=1e-05)\n",
      "          )\n",
      "          (conv1): Conv2d(\n",
      "            1024, 512, kernel_size=(1, 1), stride=(2, 2), bias=False\n",
      "            (norm): FrozenBatchNorm2d(num_features=512, eps=1e-05)\n",
      "          )\n",
      "          (conv2): Conv2d(\n",
      "            512, 512, kernel_size=(3, 3), stride=(1, 1), padding=(1, 1), bias=False\n",
      "            (norm): FrozenBatchNorm2d(num_features=512, eps=1e-05)\n",
      "          )\n",
      "          (conv3): Conv2d(\n",
      "            512, 2048, kernel_size=(1, 1), stride=(1, 1), bias=False\n",
      "            (norm): FrozenBatchNorm2d(num_features=2048, eps=1e-05)\n",
      "          )\n",
      "        )\n",
      "        (1): BottleneckBlock(\n",
      "          (conv1): Conv2d(\n",
      "            2048, 512, kernel_size=(1, 1), stride=(1, 1), bias=False\n",
      "            (norm): FrozenBatchNorm2d(num_features=512, eps=1e-05)\n",
      "          )\n",
      "          (conv2): Conv2d(\n",
      "            512, 512, kernel_size=(3, 3), stride=(1, 1), padding=(1, 1), bias=False\n",
      "            (norm): FrozenBatchNorm2d(num_features=512, eps=1e-05)\n",
      "          )\n",
      "          (conv3): Conv2d(\n",
      "            512, 2048, kernel_size=(1, 1), stride=(1, 1), bias=False\n",
      "            (norm): FrozenBatchNorm2d(num_features=2048, eps=1e-05)\n",
      "          )\n",
      "        )\n",
      "        (2): BottleneckBlock(\n",
      "          (conv1): Conv2d(\n",
      "            2048, 512, kernel_size=(1, 1), stride=(1, 1), bias=False\n",
      "            (norm): FrozenBatchNorm2d(num_features=512, eps=1e-05)\n",
      "          )\n",
      "          (conv2): Conv2d(\n",
      "            512, 512, kernel_size=(3, 3), stride=(1, 1), padding=(1, 1), bias=False\n",
      "            (norm): FrozenBatchNorm2d(num_features=512, eps=1e-05)\n",
      "          )\n",
      "          (conv3): Conv2d(\n",
      "            512, 2048, kernel_size=(1, 1), stride=(1, 1), bias=False\n",
      "            (norm): FrozenBatchNorm2d(num_features=2048, eps=1e-05)\n",
      "          )\n",
      "        )\n",
      "      )\n",
      "    )\n",
      "  )\n",
      "  (proposal_generator): RPN(\n",
      "    (rpn_head): StandardRPNHead(\n",
      "      (conv): Conv2d(\n",
      "        256, 256, kernel_size=(3, 3), stride=(1, 1), padding=(1, 1)\n",
      "        (activation): ReLU()\n",
      "      )\n",
      "      (objectness_logits): Conv2d(256, 3, kernel_size=(1, 1), stride=(1, 1))\n",
      "      (anchor_deltas): Conv2d(256, 12, kernel_size=(1, 1), stride=(1, 1))\n",
      "    )\n",
      "    (anchor_generator): DefaultAnchorGenerator(\n",
      "      (cell_anchors): BufferList()\n",
      "    )\n",
      "  )\n",
      "  (roi_heads): StandardROIHeads(\n",
      "    (box_pooler): ROIPooler(\n",
      "      (level_poolers): ModuleList(\n",
      "        (0): ROIAlign(output_size=(7, 7), spatial_scale=0.25, sampling_ratio=0, aligned=True)\n",
      "        (1): ROIAlign(output_size=(7, 7), spatial_scale=0.125, sampling_ratio=0, aligned=True)\n",
      "        (2): ROIAlign(output_size=(7, 7), spatial_scale=0.0625, sampling_ratio=0, aligned=True)\n",
      "        (3): ROIAlign(output_size=(7, 7), spatial_scale=0.03125, sampling_ratio=0, aligned=True)\n",
      "      )\n",
      "    )\n",
      "    (box_head): FastRCNNConvFCHead(\n",
      "      (flatten): Flatten(start_dim=1, end_dim=-1)\n",
      "      (fc1): Linear(in_features=12544, out_features=1024, bias=True)\n",
      "      (fc_relu1): ReLU()\n",
      "      (fc2): Linear(in_features=1024, out_features=1024, bias=True)\n",
      "      (fc_relu2): ReLU()\n",
      "    )\n",
      "    (box_predictor): FastRCNNOutputLayers(\n",
      "      (cls_score): Linear(in_features=1024, out_features=23, bias=True)\n",
      "      (bbox_pred): Linear(in_features=1024, out_features=88, bias=True)\n",
      "    )\n",
      "    (mask_pooler): ROIPooler(\n",
      "      (level_poolers): ModuleList(\n",
      "        (0): ROIAlign(output_size=(14, 14), spatial_scale=0.25, sampling_ratio=0, aligned=True)\n",
      "        (1): ROIAlign(output_size=(14, 14), spatial_scale=0.125, sampling_ratio=0, aligned=True)\n",
      "        (2): ROIAlign(output_size=(14, 14), spatial_scale=0.0625, sampling_ratio=0, aligned=True)\n",
      "        (3): ROIAlign(output_size=(14, 14), spatial_scale=0.03125, sampling_ratio=0, aligned=True)\n",
      "      )\n",
      "    )\n",
      "    (mask_head): MaskRCNNConvUpsampleHead(\n",
      "      (mask_fcn1): Conv2d(\n",
      "        256, 256, kernel_size=(3, 3), stride=(1, 1), padding=(1, 1)\n",
      "        (activation): ReLU()\n",
      "      )\n",
      "      (mask_fcn2): Conv2d(\n",
      "        256, 256, kernel_size=(3, 3), stride=(1, 1), padding=(1, 1)\n",
      "        (activation): ReLU()\n",
      "      )\n",
      "      (mask_fcn3): Conv2d(\n",
      "        256, 256, kernel_size=(3, 3), stride=(1, 1), padding=(1, 1)\n",
      "        (activation): ReLU()\n",
      "      )\n",
      "      (mask_fcn4): Conv2d(\n",
      "        256, 256, kernel_size=(3, 3), stride=(1, 1), padding=(1, 1)\n",
      "        (activation): ReLU()\n",
      "      )\n",
      "      (deconv): ConvTranspose2d(256, 256, kernel_size=(2, 2), stride=(2, 2))\n",
      "      (deconv_relu): ReLU()\n",
      "      (predictor): Conv2d(256, 22, kernel_size=(1, 1), stride=(1, 1))\n",
      "    )\n",
      "  )\n",
      ")\n",
      "[03/15 17:57:10 d2.data.dataset_mapper]: [DatasetMapper] Augmentations used in training: [Resize(shape=(1300, 800)), RandomBrightness(intensity_min=0.5, intensity_max=2), RandomContrast(intensity_min=0.5, intensity_max=2), RandomSaturation(intensity_min=0.5, intensity_max=2), RandomFlip(prob=0.5), RandomFlip(prob=0.5, horizontal=False, vertical=True), RandomLighting(scale=0.7)]\n",
      "[03/15 17:57:11 d2.data.build]: Removed 0 images with no usable annotations. 31 images left.\n",
      "[03/15 17:57:11 d2.data.build]: Distribution of instances among all 22 categories:\n",
      "|   category    | #instances   |   category    | #instances   |   category    | #instances   |\n",
      "|:-------------:|:-------------|:-------------:|:-------------|:-------------:|:-------------|\n",
      "|      jug      | 251          | easy_foothold | 120          |    sloper     | 64           |\n",
      "| large_sloper  | 116          |   easy_edge   | 50           |  crimp_edge   | 80           |\n",
      "| edge_large_.. | 34           |     crimp     | 11           |    u_edge     | 3            |\n",
      "|  easy_sloper  | 55           | double_side.. | 6            | pinch_sloper  | 13           |\n",
      "|   foothold    | 112          | double_side.. | 6            |     edge      | 70           |\n",
      "| curve_edge_.. | 7            |    pocket     | 6            |     pinch     | 30           |\n",
      "|  edge_sloper  | 3            |    volume     | 7            | large_moon_.. | 7            |\n",
      "|   platform    | 9            |               |              |               |              |\n",
      "|     total     | 1060         |               |              |               |              |\n",
      "[03/15 17:57:11 d2.data.build]: Using training sampler TrainingSampler\n",
      "[03/15 17:57:11 d2.data.common]: Serializing 31 elements to byte tensors and concatenating them all ...\n",
      "[03/15 17:57:11 d2.data.common]: Serialized dataset takes 0.49 MiB\n",
      "WARNING [03/15 17:57:11 d2.solver.build]: SOLVER.STEPS contains values larger than SOLVER.MAX_ITER. These values will be ignored.\n"
     ]
    },
    {
     "name": "stderr",
     "output_type": "stream",
     "text": [
      "WARNING:fvcore.common.checkpoint:Skip loading parameter 'roi_heads.box_predictor.cls_score.weight' to the model due to incompatible shapes: (81, 1024) in the checkpoint but (23, 1024) in the model! You might want to double check if this is expected.\n",
      "WARNING:fvcore.common.checkpoint:Skip loading parameter 'roi_heads.box_predictor.cls_score.bias' to the model due to incompatible shapes: (81,) in the checkpoint but (23,) in the model! You might want to double check if this is expected.\n",
      "WARNING:fvcore.common.checkpoint:Skip loading parameter 'roi_heads.box_predictor.bbox_pred.weight' to the model due to incompatible shapes: (320, 1024) in the checkpoint but (88, 1024) in the model! You might want to double check if this is expected.\n",
      "WARNING:fvcore.common.checkpoint:Skip loading parameter 'roi_heads.box_predictor.bbox_pred.bias' to the model due to incompatible shapes: (320,) in the checkpoint but (88,) in the model! You might want to double check if this is expected.\n",
      "WARNING:fvcore.common.checkpoint:Skip loading parameter 'roi_heads.mask_head.predictor.weight' to the model due to incompatible shapes: (80, 256, 1, 1) in the checkpoint but (22, 256, 1, 1) in the model! You might want to double check if this is expected.\n",
      "WARNING:fvcore.common.checkpoint:Skip loading parameter 'roi_heads.mask_head.predictor.bias' to the model due to incompatible shapes: (80,) in the checkpoint but (22,) in the model! You might want to double check if this is expected.\n",
      "WARNING:fvcore.common.checkpoint:Some model parameters or buffers are not found in the checkpoint:\n",
      "roi_heads.box_predictor.bbox_pred.{bias, weight}\n",
      "roi_heads.box_predictor.cls_score.{bias, weight}\n",
      "roi_heads.mask_head.predictor.{bias, weight}\n"
     ]
    }
   ],
   "source": [
    "os.makedirs(cfg.OUTPUT_DIR, exist_ok=True)\n",
    "trainer = AugmentedTrainer(cfg) \n",
    "trainer.resume_or_load(resume=False)"
   ]
  },
  {
   "cell_type": "code",
   "execution_count": 9,
   "metadata": {
    "colab": {
     "base_uri": "https://localhost:8080/"
    },
    "executionInfo": {
     "elapsed": 8855741,
     "status": "ok",
     "timestamp": 1678911899252,
     "user": {
      "displayName": "Tony Lay",
      "userId": "12991364819392579390"
     },
     "user_tz": 0
    },
    "id": "78RBHG83TgVY",
    "outputId": "69d558d9-55f7-48bf-cefe-999fa0a0a1a8"
   },
   "outputs": [
    {
     "name": "stdout",
     "output_type": "stream",
     "text": [
      "[03/15 17:57:24 d2.engine.train_loop]: Starting training from iteration 0\n",
      "[03/15 17:58:12 d2.utils.events]:  eta: 2:53:55  iter: 19  total_loss: 5.382  loss_cls: 3.012  loss_box_reg: 0.6643  loss_mask: 0.6927  loss_rpn_cls: 0.8954  loss_rpn_loc: 0.1132  time: 2.3569  data_time: 1.5391  lr: 4.9953e-06  max_mem: 3183M\n",
      "[03/15 17:58:52 d2.utils.events]:  eta: 2:42:04  iter: 39  total_loss: 4.863  loss_cls: 2.897  loss_box_reg: 0.6693  loss_mask: 0.6906  loss_rpn_cls: 0.5132  loss_rpn_loc: 0.1103  time: 2.1585  data_time: 1.0997  lr: 9.9902e-06  max_mem: 3183M\n",
      "[03/15 17:59:32 d2.utils.events]:  eta: 2:26:33  iter: 59  total_loss: 4.318  loss_cls: 2.59  loss_box_reg: 0.6874  loss_mask: 0.6864  loss_rpn_cls: 0.1997  loss_rpn_loc: 0.09323  time: 2.1119  data_time: 1.1495  lr: 1.4985e-05  max_mem: 3183M\n",
      "[03/15 18:00:08 d2.utils.events]:  eta: 2:20:01  iter: 79  total_loss: 3.751  loss_cls: 2.196  loss_box_reg: 0.6668  loss_mask: 0.6798  loss_rpn_cls: 0.1245  loss_rpn_loc: 0.1016  time: 2.0267  data_time: 0.9200  lr: 1.998e-05  max_mem: 3183M\n",
      "[03/15 18:00:43 d2.utils.events]:  eta: 2:17:19  iter: 99  total_loss: 3.307  loss_cls: 1.751  loss_box_reg: 0.699  loss_mask: 0.6714  loss_rpn_cls: 0.1198  loss_rpn_loc: 0.1211  time: 1.9723  data_time: 0.9030  lr: 2.4975e-05  max_mem: 3183M\n",
      "[03/15 18:01:19 d2.utils.events]:  eta: 2:16:17  iter: 119  total_loss: 2.87  loss_cls: 1.305  loss_box_reg: 0.7271  loss_mask: 0.6635  loss_rpn_cls: 0.06925  loss_rpn_loc: 0.09696  time: 1.9395  data_time: 0.8945  lr: 2.997e-05  max_mem: 3183M\n",
      "[03/15 18:02:01 d2.utils.events]:  eta: 2:15:54  iter: 139  total_loss: 2.711  loss_cls: 1.16  loss_box_reg: 0.7363  loss_mask: 0.6493  loss_rpn_cls: 0.07128  loss_rpn_loc: 0.1029  time: 1.9631  data_time: 1.1792  lr: 3.4965e-05  max_mem: 3183M\n",
      "[03/15 18:02:38 d2.utils.events]:  eta: 2:13:55  iter: 159  total_loss: 2.618  loss_cls: 1.107  loss_box_reg: 0.75  loss_mask: 0.6343  loss_rpn_cls: 0.05003  loss_rpn_loc: 0.08913  time: 1.9522  data_time: 0.9837  lr: 3.996e-05  max_mem: 3183M\n",
      "[03/15 18:03:16 d2.utils.events]:  eta: 2:13:38  iter: 179  total_loss: 2.574  loss_cls: 1.049  loss_box_reg: 0.7295  loss_mask: 0.6174  loss_rpn_cls: 0.04174  loss_rpn_loc: 0.09305  time: 1.9429  data_time: 1.0066  lr: 4.4955e-05  max_mem: 3183M\n",
      "[03/15 18:03:53 d2.utils.events]:  eta: 2:13:36  iter: 199  total_loss: 2.557  loss_cls: 1.072  loss_box_reg: 0.725  loss_mask: 0.6058  loss_rpn_cls: 0.04276  loss_rpn_loc: 0.0948  time: 1.9317  data_time: 0.9576  lr: 4.995e-05  max_mem: 3183M\n",
      "[03/15 18:04:29 d2.utils.events]:  eta: 2:12:21  iter: 219  total_loss: 2.488  loss_cls: 1.025  loss_box_reg: 0.7299  loss_mask: 0.5798  loss_rpn_cls: 0.03567  loss_rpn_loc: 0.09797  time: 1.9195  data_time: 0.9374  lr: 5.4945e-05  max_mem: 3183M\n",
      "[03/15 18:05:06 d2.utils.events]:  eta: 2:11:53  iter: 239  total_loss: 2.468  loss_cls: 1.014  loss_box_reg: 0.7333  loss_mask: 0.5584  loss_rpn_cls: 0.04377  loss_rpn_loc: 0.1007  time: 1.9141  data_time: 0.9576  lr: 5.994e-05  max_mem: 3183M\n",
      "[03/15 18:05:48 d2.utils.events]:  eta: 2:11:56  iter: 259  total_loss: 2.417  loss_cls: 0.9968  loss_box_reg: 0.7439  loss_mask: 0.5481  loss_rpn_cls: 0.036  loss_rpn_loc: 0.09162  time: 1.9298  data_time: 1.2011  lr: 6.4935e-05  max_mem: 3183M\n",
      "[03/15 18:06:25 d2.utils.events]:  eta: 2:10:53  iter: 279  total_loss: 2.289  loss_cls: 0.9492  loss_box_reg: 0.7222  loss_mask: 0.4956  loss_rpn_cls: 0.02991  loss_rpn_loc: 0.08615  time: 1.9230  data_time: 0.9472  lr: 6.993e-05  max_mem: 3183M\n",
      "[03/15 18:07:00 d2.utils.events]:  eta: 2:10:08  iter: 299  total_loss: 2.306  loss_cls: 0.9754  loss_box_reg: 0.7317  loss_mask: 0.489  loss_rpn_cls: 0.03277  loss_rpn_loc: 0.09905  time: 1.9136  data_time: 0.8795  lr: 7.4925e-05  max_mem: 3183M\n",
      "[03/15 18:07:36 d2.utils.events]:  eta: 2:09:35  iter: 319  total_loss: 2.255  loss_cls: 0.9205  loss_box_reg: 0.7293  loss_mask: 0.4537  loss_rpn_cls: 0.03799  loss_rpn_loc: 0.09842  time: 1.9059  data_time: 0.9322  lr: 7.992e-05  max_mem: 3183M\n",
      "[03/15 18:08:11 d2.utils.events]:  eta: 2:08:40  iter: 339  total_loss: 2.173  loss_cls: 0.9042  loss_box_reg: 0.7048  loss_mask: 0.4206  loss_rpn_cls: 0.02293  loss_rpn_loc: 0.08054  time: 1.8957  data_time: 0.8675  lr: 8.4915e-05  max_mem: 3183M\n",
      "[03/15 18:08:45 d2.utils.events]:  eta: 2:07:13  iter: 359  total_loss: 2.079  loss_cls: 0.8776  loss_box_reg: 0.7188  loss_mask: 0.3972  loss_rpn_cls: 0.01926  loss_rpn_loc: 0.08098  time: 1.8853  data_time: 0.8401  lr: 8.991e-05  max_mem: 3183M\n",
      "[03/15 18:09:28 d2.utils.events]:  eta: 2:07:10  iter: 379  total_loss: 2.084  loss_cls: 0.8773  loss_box_reg: 0.6794  loss_mask: 0.3784  loss_rpn_cls: 0.02754  loss_rpn_loc: 0.09755  time: 1.8994  data_time: 1.2341  lr: 9.4905e-05  max_mem: 3183M\n",
      "[03/15 18:10:04 d2.utils.events]:  eta: 2:06:18  iter: 399  total_loss: 2.057  loss_cls: 0.8727  loss_box_reg: 0.7012  loss_mask: 0.3598  loss_rpn_cls: 0.02562  loss_rpn_loc: 0.08796  time: 1.8942  data_time: 0.9208  lr: 9.99e-05  max_mem: 3183M\n",
      "[03/15 18:10:39 d2.utils.events]:  eta: 2:05:28  iter: 419  total_loss: 1.996  loss_cls: 0.8861  loss_box_reg: 0.6849  loss_mask: 0.327  loss_rpn_cls: 0.01885  loss_rpn_loc: 0.08385  time: 1.8862  data_time: 0.8562  lr: 0.0001049  max_mem: 3183M\n",
      "[03/15 18:11:16 d2.utils.events]:  eta: 2:05:12  iter: 439  total_loss: 1.889  loss_cls: 0.8209  loss_box_reg: 0.6877  loss_mask: 0.2979  loss_rpn_cls: 0.01747  loss_rpn_loc: 0.08336  time: 1.8854  data_time: 0.9851  lr: 0.00010989  max_mem: 3183M\n",
      "[03/15 18:11:54 d2.utils.events]:  eta: 2:05:12  iter: 459  total_loss: 1.831  loss_cls: 0.8038  loss_box_reg: 0.6647  loss_mask: 0.2652  loss_rpn_cls: 0.01742  loss_rpn_loc: 0.08183  time: 1.8860  data_time: 1.0003  lr: 0.00011489  max_mem: 3183M\n",
      "[03/15 18:12:35 d2.utils.events]:  eta: 2:04:45  iter: 479  total_loss: 1.744  loss_cls: 0.7793  loss_box_reg: 0.6421  loss_mask: 0.2546  loss_rpn_cls: 0.01804  loss_rpn_loc: 0.08184  time: 1.8914  data_time: 1.1155  lr: 0.00011988  max_mem: 3183M\n",
      "[03/15 18:13:10 d2.utils.events]:  eta: 2:04:06  iter: 499  total_loss: 1.72  loss_cls: 0.7793  loss_box_reg: 0.6246  loss_mask: 0.234  loss_rpn_cls: 0.01636  loss_rpn_loc: 0.08532  time: 1.8861  data_time: 0.8982  lr: 0.00012488  max_mem: 3183M\n",
      "[03/15 18:13:45 d2.utils.events]:  eta: 2:03:39  iter: 519  total_loss: 1.724  loss_cls: 0.7751  loss_box_reg: 0.5896  loss_mask: 0.2339  loss_rpn_cls: 0.02109  loss_rpn_loc: 0.08557  time: 1.8803  data_time: 0.8465  lr: 0.00012987  max_mem: 3183M\n",
      "[03/15 18:14:21 d2.utils.events]:  eta: 2:03:10  iter: 539  total_loss: 1.654  loss_cls: 0.7486  loss_box_reg: 0.5635  loss_mask: 0.2124  loss_rpn_cls: 0.0186  loss_rpn_loc: 0.07885  time: 1.8779  data_time: 0.9349  lr: 0.00013487  max_mem: 3183M\n",
      "[03/15 18:14:57 d2.utils.events]:  eta: 2:02:40  iter: 559  total_loss: 1.619  loss_cls: 0.7438  loss_box_reg: 0.5634  loss_mask: 0.1995  loss_rpn_cls: 0.01689  loss_rpn_loc: 0.08247  time: 1.8758  data_time: 0.9382  lr: 0.00013986  max_mem: 3183M\n",
      "[03/15 18:15:31 d2.utils.events]:  eta: 2:01:54  iter: 579  total_loss: 1.566  loss_cls: 0.7298  loss_box_reg: 0.5199  loss_mask: 0.1998  loss_rpn_cls: 0.0176  loss_rpn_loc: 0.08307  time: 1.8695  data_time: 0.8262  lr: 0.00014486  max_mem: 3183M\n",
      "[03/15 18:16:06 d2.utils.events]:  eta: 2:01:17  iter: 599  total_loss: 1.474  loss_cls: 0.709  loss_box_reg: 0.4957  loss_mask: 0.1805  loss_rpn_cls: 0.01287  loss_rpn_loc: 0.07174  time: 1.8656  data_time: 0.8630  lr: 0.00014985  max_mem: 3183M\n",
      "[03/15 18:16:42 d2.utils.events]:  eta: 2:00:37  iter: 619  total_loss: 1.402  loss_cls: 0.6906  loss_box_reg: 0.4673  loss_mask: 0.1785  loss_rpn_cls: 0.01117  loss_rpn_loc: 0.08238  time: 1.8637  data_time: 0.9199  lr: 0.00015485  max_mem: 3183M\n",
      "[03/15 18:17:17 d2.utils.events]:  eta: 1:59:51  iter: 639  total_loss: 1.353  loss_cls: 0.6543  loss_box_reg: 0.4425  loss_mask: 0.1735  loss_rpn_cls: 0.01127  loss_rpn_loc: 0.08406  time: 1.8597  data_time: 0.8586  lr: 0.00015984  max_mem: 3183M\n",
      "[03/15 18:17:53 d2.utils.events]:  eta: 1:59:03  iter: 659  total_loss: 1.354  loss_cls: 0.657  loss_box_reg: 0.4244  loss_mask: 0.1656  loss_rpn_cls: 0.0148  loss_rpn_loc: 0.07822  time: 1.8574  data_time: 0.9153  lr: 0.00016484  max_mem: 3183M\n",
      "[03/15 18:18:27 d2.utils.events]:  eta: 1:58:23  iter: 679  total_loss: 1.341  loss_cls: 0.6569  loss_box_reg: 0.4288  loss_mask: 0.1811  loss_rpn_cls: 0.01303  loss_rpn_loc: 0.08097  time: 1.8533  data_time: 0.8458  lr: 0.00016983  max_mem: 3183M\n",
      "[03/15 18:19:03 d2.utils.events]:  eta: 1:57:50  iter: 699  total_loss: 1.279  loss_cls: 0.6499  loss_box_reg: 0.3942  loss_mask: 0.1667  loss_rpn_cls: 0.007365  loss_rpn_loc: 0.08019  time: 1.8508  data_time: 0.9006  lr: 0.00017483  max_mem: 3183M\n",
      "[03/15 18:19:37 d2.utils.events]:  eta: 1:57:11  iter: 719  total_loss: 1.265  loss_cls: 0.6319  loss_box_reg: 0.3772  loss_mask: 0.1726  loss_rpn_cls: 0.007553  loss_rpn_loc: 0.07854  time: 1.8472  data_time: 0.8455  lr: 0.00017982  max_mem: 3183M\n",
      "[03/15 18:20:12 d2.utils.events]:  eta: 1:56:37  iter: 739  total_loss: 1.222  loss_cls: 0.6185  loss_box_reg: 0.3486  loss_mask: 0.1528  loss_rpn_cls: 0.01335  loss_rpn_loc: 0.07717  time: 1.8445  data_time: 0.8827  lr: 0.00018482  max_mem: 3183M\n",
      "[03/15 18:20:48 d2.utils.events]:  eta: 1:55:41  iter: 759  total_loss: 1.19  loss_cls: 0.6063  loss_box_reg: 0.3571  loss_mask: 0.1565  loss_rpn_cls: 0.007418  loss_rpn_loc: 0.0806  time: 1.8434  data_time: 0.9270  lr: 0.00018981  max_mem: 3183M\n",
      "[03/15 18:21:24 d2.utils.events]:  eta: 1:55:32  iter: 779  total_loss: 1.158  loss_cls: 0.5827  loss_box_reg: 0.3319  loss_mask: 0.1521  loss_rpn_cls: 0.009163  loss_rpn_loc: 0.07661  time: 1.8420  data_time: 0.9289  lr: 0.00019481  max_mem: 3183M\n",
      "[03/15 18:22:00 d2.utils.events]:  eta: 1:54:59  iter: 799  total_loss: 1.165  loss_cls: 0.5908  loss_box_reg: 0.3283  loss_mask: 0.1548  loss_rpn_cls: 0.008948  loss_rpn_loc: 0.08107  time: 1.8412  data_time: 0.9329  lr: 0.0001998  max_mem: 3183M\n",
      "[03/15 18:22:36 d2.utils.events]:  eta: 1:54:26  iter: 819  total_loss: 1.145  loss_cls: 0.5773  loss_box_reg: 0.3131  loss_mask: 0.1527  loss_rpn_cls: 0.01178  loss_rpn_loc: 0.07561  time: 1.8405  data_time: 0.9350  lr: 0.0002048  max_mem: 3183M\n",
      "[03/15 18:23:13 d2.utils.events]:  eta: 1:53:49  iter: 839  total_loss: 1.091  loss_cls: 0.5719  loss_box_reg: 0.2993  loss_mask: 0.1439  loss_rpn_cls: 0.01284  loss_rpn_loc: 0.07301  time: 1.8396  data_time: 0.9277  lr: 0.00020979  max_mem: 3183M\n",
      "[03/15 18:23:48 d2.utils.events]:  eta: 1:52:42  iter: 859  total_loss: 1.071  loss_cls: 0.5521  loss_box_reg: 0.3001  loss_mask: 0.1433  loss_rpn_cls: 0.006698  loss_rpn_loc: 0.07036  time: 1.8382  data_time: 0.9047  lr: 0.00021479  max_mem: 3183M\n",
      "[03/15 18:24:24 d2.utils.events]:  eta: 1:52:08  iter: 879  total_loss: 1.122  loss_cls: 0.5572  loss_box_reg: 0.3058  loss_mask: 0.1584  loss_rpn_cls: 0.008222  loss_rpn_loc: 0.07808  time: 1.8374  data_time: 0.9214  lr: 0.00021978  max_mem: 3183M\n",
      "[03/15 18:25:00 d2.utils.events]:  eta: 1:51:32  iter: 899  total_loss: 1.038  loss_cls: 0.5492  loss_box_reg: 0.2764  loss_mask: 0.134  loss_rpn_cls: 0.009597  loss_rpn_loc: 0.06767  time: 1.8359  data_time: 0.8847  lr: 0.00022478  max_mem: 3183M\n",
      "[03/15 18:25:34 d2.utils.events]:  eta: 1:50:55  iter: 919  total_loss: 1.098  loss_cls: 0.5517  loss_box_reg: 0.2889  loss_mask: 0.1558  loss_rpn_cls: 0.01239  loss_rpn_loc: 0.08188  time: 1.8336  data_time: 0.8528  lr: 0.00022977  max_mem: 3183M\n",
      "[03/15 18:26:07 d2.utils.events]:  eta: 1:50:07  iter: 939  total_loss: 1.066  loss_cls: 0.5291  loss_box_reg: 0.2794  loss_mask: 0.1364  loss_rpn_cls: 0.006719  loss_rpn_loc: 0.07116  time: 1.8297  data_time: 0.7869  lr: 0.00023477  max_mem: 3183M\n",
      "[03/15 18:26:41 d2.utils.events]:  eta: 1:49:29  iter: 959  total_loss: 0.9977  loss_cls: 0.5096  loss_box_reg: 0.2583  loss_mask: 0.138  loss_rpn_cls: 0.003695  loss_rpn_loc: 0.07207  time: 1.8268  data_time: 0.8234  lr: 0.00023976  max_mem: 3183M\n",
      "[03/15 18:27:16 d2.utils.events]:  eta: 1:48:56  iter: 979  total_loss: 1.033  loss_cls: 0.5348  loss_box_reg: 0.2689  loss_mask: 0.1451  loss_rpn_cls: 0.007325  loss_rpn_loc: 0.07638  time: 1.8245  data_time: 0.8465  lr: 0.00024476  max_mem: 3183M\n",
      "[03/15 18:27:50 d2.utils.events]:  eta: 1:48:13  iter: 999  total_loss: 0.9687  loss_cls: 0.5224  loss_box_reg: 0.2574  loss_mask: 0.1253  loss_rpn_cls: 0.005074  loss_rpn_loc: 0.06796  time: 1.8229  data_time: 0.8584  lr: 0.00024975  max_mem: 3183M\n",
      "[03/15 18:28:24 d2.utils.events]:  eta: 1:46:59  iter: 1019  total_loss: 0.9612  loss_cls: 0.4893  loss_box_reg: 0.2606  loss_mask: 0.1342  loss_rpn_cls: 0.006429  loss_rpn_loc: 0.06973  time: 1.8197  data_time: 0.7839  lr: 0.00025  max_mem: 3183M\n",
      "[03/15 18:28:58 d2.utils.events]:  eta: 1:46:23  iter: 1039  total_loss: 0.9495  loss_cls: 0.4808  loss_box_reg: 0.2613  loss_mask: 0.1253  loss_rpn_cls: 0.005778  loss_rpn_loc: 0.07049  time: 1.8173  data_time: 0.8197  lr: 0.00025  max_mem: 3183M\n",
      "[03/15 18:29:32 d2.utils.events]:  eta: 1:45:43  iter: 1059  total_loss: 0.9448  loss_cls: 0.4781  loss_box_reg: 0.2609  loss_mask: 0.1194  loss_rpn_cls: 0.005251  loss_rpn_loc: 0.07354  time: 1.8158  data_time: 0.8532  lr: 0.00025  max_mem: 3183M\n",
      "[03/15 18:30:07 d2.utils.events]:  eta: 1:45:06  iter: 1079  total_loss: 0.9399  loss_cls: 0.4628  loss_box_reg: 0.2354  loss_mask: 0.1341  loss_rpn_cls: 0.008534  loss_rpn_loc: 0.07288  time: 1.8146  data_time: 0.8696  lr: 0.00025  max_mem: 3183M\n",
      "[03/15 18:30:44 d2.utils.events]:  eta: 1:44:38  iter: 1099  total_loss: 0.9019  loss_cls: 0.4669  loss_box_reg: 0.2378  loss_mask: 0.1312  loss_rpn_cls: 0.008677  loss_rpn_loc: 0.0659  time: 1.8145  data_time: 0.9436  lr: 0.00025  max_mem: 3183M\n",
      "[03/15 18:31:19 d2.utils.events]:  eta: 1:43:57  iter: 1119  total_loss: 0.9251  loss_cls: 0.476  loss_box_reg: 0.2484  loss_mask: 0.1325  loss_rpn_cls: 0.009175  loss_rpn_loc: 0.06985  time: 1.8137  data_time: 0.8919  lr: 0.00025  max_mem: 3183M\n",
      "[03/15 18:31:55 d2.utils.events]:  eta: 1:43:21  iter: 1139  total_loss: 0.8781  loss_cls: 0.4338  loss_box_reg: 0.2381  loss_mask: 0.1302  loss_rpn_cls: 0.005896  loss_rpn_loc: 0.06768  time: 1.8133  data_time: 0.9059  lr: 0.00025  max_mem: 3183M\n",
      "[03/15 18:32:30 d2.utils.events]:  eta: 1:42:57  iter: 1159  total_loss: 0.8828  loss_cls: 0.4527  loss_box_reg: 0.2278  loss_mask: 0.1281  loss_rpn_cls: 0.003591  loss_rpn_loc: 0.07165  time: 1.8122  data_time: 0.8705  lr: 0.00025  max_mem: 3183M\n",
      "[03/15 18:33:05 d2.utils.events]:  eta: 1:42:08  iter: 1179  total_loss: 0.885  loss_cls: 0.4386  loss_box_reg: 0.2332  loss_mask: 0.1271  loss_rpn_cls: 0.005175  loss_rpn_loc: 0.07258  time: 1.8109  data_time: 0.8585  lr: 0.00025  max_mem: 3183M\n",
      "[03/15 18:33:40 d2.utils.events]:  eta: 1:41:26  iter: 1199  total_loss: 0.8739  loss_cls: 0.4375  loss_box_reg: 0.2372  loss_mask: 0.1319  loss_rpn_cls: 0.006281  loss_rpn_loc: 0.06801  time: 1.8099  data_time: 0.8403  lr: 0.00025  max_mem: 3183M\n",
      "[03/15 18:34:14 d2.utils.events]:  eta: 1:40:54  iter: 1219  total_loss: 0.8449  loss_cls: 0.4092  loss_box_reg: 0.2375  loss_mask: 0.1342  loss_rpn_cls: 0.002828  loss_rpn_loc: 0.06642  time: 1.8087  data_time: 0.8684  lr: 0.00025  max_mem: 3183M\n",
      "[03/15 18:34:51 d2.utils.events]:  eta: 1:40:17  iter: 1239  total_loss: 0.8515  loss_cls: 0.4096  loss_box_reg: 0.2312  loss_mask: 0.1252  loss_rpn_cls: 0.004473  loss_rpn_loc: 0.06437  time: 1.8089  data_time: 0.9218  lr: 0.00025  max_mem: 3183M\n",
      "[03/15 18:35:27 d2.utils.events]:  eta: 1:39:41  iter: 1259  total_loss: 0.8389  loss_cls: 0.4157  loss_box_reg: 0.2309  loss_mask: 0.126  loss_rpn_cls: 0.003965  loss_rpn_loc: 0.06693  time: 1.8090  data_time: 0.9363  lr: 0.00025  max_mem: 3183M\n",
      "[03/15 18:36:01 d2.utils.events]:  eta: 1:39:09  iter: 1279  total_loss: 0.8407  loss_cls: 0.4123  loss_box_reg: 0.2218  loss_mask: 0.1227  loss_rpn_cls: 0.005361  loss_rpn_loc: 0.07039  time: 1.8068  data_time: 0.8007  lr: 0.00025  max_mem: 3183M\n",
      "[03/15 18:36:34 d2.utils.events]:  eta: 1:38:35  iter: 1299  total_loss: 0.8144  loss_cls: 0.3943  loss_box_reg: 0.2267  loss_mask: 0.1303  loss_rpn_cls: 0.005694  loss_rpn_loc: 0.06519  time: 1.8043  data_time: 0.7837  lr: 0.00025  max_mem: 3183M\n",
      "[03/15 18:37:09 d2.utils.events]:  eta: 1:37:59  iter: 1319  total_loss: 0.7726  loss_cls: 0.3962  loss_box_reg: 0.2173  loss_mask: 0.1205  loss_rpn_cls: 0.004107  loss_rpn_loc: 0.06951  time: 1.8039  data_time: 0.9181  lr: 0.00025  max_mem: 3183M\n",
      "[03/15 18:37:44 d2.utils.events]:  eta: 1:37:29  iter: 1339  total_loss: 0.8101  loss_cls: 0.3911  loss_box_reg: 0.2173  loss_mask: 0.122  loss_rpn_cls: 0.003132  loss_rpn_loc: 0.06642  time: 1.8028  data_time: 0.8513  lr: 0.00025  max_mem: 3183M\n",
      "[03/15 18:38:19 d2.utils.events]:  eta: 1:37:01  iter: 1359  total_loss: 0.8286  loss_cls: 0.3983  loss_box_reg: 0.2261  loss_mask: 0.1174  loss_rpn_cls: 0.004523  loss_rpn_loc: 0.06869  time: 1.8020  data_time: 0.8733  lr: 0.00025  max_mem: 3183M\n",
      "[03/15 18:38:53 d2.utils.events]:  eta: 1:36:20  iter: 1379  total_loss: 0.8077  loss_cls: 0.3871  loss_box_reg: 0.2144  loss_mask: 0.1317  loss_rpn_cls: 0.00561  loss_rpn_loc: 0.06816  time: 1.8005  data_time: 0.8279  lr: 0.00025  max_mem: 3183M\n",
      "[03/15 18:39:28 d2.utils.events]:  eta: 1:35:45  iter: 1399  total_loss: 0.8378  loss_cls: 0.4059  loss_box_reg: 0.224  loss_mask: 0.1311  loss_rpn_cls: 0.003524  loss_rpn_loc: 0.07273  time: 1.7998  data_time: 0.8669  lr: 0.00025  max_mem: 3183M\n",
      "[03/15 18:40:03 d2.utils.events]:  eta: 1:35:18  iter: 1419  total_loss: 0.7018  loss_cls: 0.3275  loss_box_reg: 0.2121  loss_mask: 0.1206  loss_rpn_cls: 0.003673  loss_rpn_loc: 0.06043  time: 1.7993  data_time: 0.8802  lr: 0.00025  max_mem: 3183M\n",
      "[03/15 18:40:39 d2.utils.events]:  eta: 1:34:44  iter: 1439  total_loss: 0.7478  loss_cls: 0.3614  loss_box_reg: 0.2022  loss_mask: 0.12  loss_rpn_cls: 0.003028  loss_rpn_loc: 0.06358  time: 1.7993  data_time: 0.9083  lr: 0.00025  max_mem: 3183M\n",
      "[03/15 18:41:15 d2.utils.events]:  eta: 1:34:03  iter: 1459  total_loss: 0.7973  loss_cls: 0.3535  loss_box_reg: 0.2229  loss_mask: 0.1294  loss_rpn_cls: 0.007162  loss_rpn_loc: 0.07331  time: 1.7989  data_time: 0.8985  lr: 0.00025  max_mem: 3183M\n",
      "[03/15 18:41:49 d2.utils.events]:  eta: 1:33:20  iter: 1479  total_loss: 0.7787  loss_cls: 0.3517  loss_box_reg: 0.2112  loss_mask: 0.1261  loss_rpn_cls: 0.006939  loss_rpn_loc: 0.06542  time: 1.7976  data_time: 0.8251  lr: 0.00025  max_mem: 3183M\n",
      "[03/15 18:42:25 d2.utils.events]:  eta: 1:32:48  iter: 1499  total_loss: 0.764  loss_cls: 0.3622  loss_box_reg: 0.212  loss_mask: 0.1229  loss_rpn_cls: 0.003704  loss_rpn_loc: 0.06241  time: 1.7976  data_time: 0.9189  lr: 0.00025  max_mem: 3183M\n",
      "[03/15 18:42:59 d2.utils.events]:  eta: 1:32:12  iter: 1519  total_loss: 0.7507  loss_cls: 0.3459  loss_box_reg: 0.2101  loss_mask: 0.113  loss_rpn_cls: 0.002125  loss_rpn_loc: 0.06262  time: 1.7964  data_time: 0.8444  lr: 0.00025  max_mem: 3183M\n",
      "[03/15 18:43:34 d2.utils.events]:  eta: 1:31:33  iter: 1539  total_loss: 0.7603  loss_cls: 0.3533  loss_box_reg: 0.1962  loss_mask: 0.1115  loss_rpn_cls: 0.006006  loss_rpn_loc: 0.06524  time: 1.7959  data_time: 0.8790  lr: 0.00025  max_mem: 3183M\n",
      "[03/15 18:44:08 d2.utils.events]:  eta: 1:30:41  iter: 1559  total_loss: 0.7432  loss_cls: 0.3156  loss_box_reg: 0.2117  loss_mask: 0.1241  loss_rpn_cls: 0.002022  loss_rpn_loc: 0.06206  time: 1.7943  data_time: 0.7889  lr: 0.00025  max_mem: 3183M\n",
      "[03/15 18:44:44 d2.utils.events]:  eta: 1:30:26  iter: 1579  total_loss: 0.763  loss_cls: 0.3464  loss_box_reg: 0.2089  loss_mask: 0.1259  loss_rpn_cls: 0.003235  loss_rpn_loc: 0.06892  time: 1.7948  data_time: 0.9607  lr: 0.00025  max_mem: 3183M\n",
      "[03/15 18:45:20 d2.utils.events]:  eta: 1:29:42  iter: 1599  total_loss: 0.7485  loss_cls: 0.347  loss_box_reg: 0.2108  loss_mask: 0.1221  loss_rpn_cls: 0.002784  loss_rpn_loc: 0.06571  time: 1.7946  data_time: 0.8771  lr: 0.00025  max_mem: 3183M\n",
      "[03/15 18:45:56 d2.utils.events]:  eta: 1:29:17  iter: 1619  total_loss: 0.6645  loss_cls: 0.3142  loss_box_reg: 0.2014  loss_mask: 0.1125  loss_rpn_cls: 0.002977  loss_rpn_loc: 0.06182  time: 1.7948  data_time: 0.9258  lr: 0.00025  max_mem: 3183M\n",
      "[03/15 18:46:31 d2.utils.events]:  eta: 1:28:40  iter: 1639  total_loss: 0.6854  loss_cls: 0.3102  loss_box_reg: 0.1904  loss_mask: 0.1155  loss_rpn_cls: 0.003032  loss_rpn_loc: 0.05928  time: 1.7941  data_time: 0.8686  lr: 0.00025  max_mem: 3183M\n",
      "[03/15 18:47:07 d2.utils.events]:  eta: 1:28:21  iter: 1659  total_loss: 0.7344  loss_cls: 0.3377  loss_box_reg: 0.2187  loss_mask: 0.1224  loss_rpn_cls: 0.009592  loss_rpn_loc: 0.06735  time: 1.7943  data_time: 0.9234  lr: 0.00025  max_mem: 3183M\n",
      "[03/15 18:47:42 d2.utils.events]:  eta: 1:27:50  iter: 1679  total_loss: 0.6896  loss_cls: 0.3122  loss_box_reg: 0.2024  loss_mask: 0.1156  loss_rpn_cls: 0.002598  loss_rpn_loc: 0.06303  time: 1.7938  data_time: 0.8796  lr: 0.00025  max_mem: 3183M\n",
      "[03/15 18:48:16 d2.utils.events]:  eta: 1:27:18  iter: 1699  total_loss: 0.672  loss_cls: 0.2919  loss_box_reg: 0.19  loss_mask: 0.125  loss_rpn_cls: 0.003822  loss_rpn_loc: 0.06026  time: 1.7928  data_time: 0.8265  lr: 0.00025  max_mem: 3183M\n",
      "[03/15 18:48:52 d2.utils.events]:  eta: 1:26:46  iter: 1719  total_loss: 0.6302  loss_cls: 0.2907  loss_box_reg: 0.175  loss_mask: 0.1144  loss_rpn_cls: 0.002266  loss_rpn_loc: 0.05761  time: 1.7925  data_time: 0.8633  lr: 0.00025  max_mem: 3183M\n",
      "[03/15 18:49:28 d2.utils.events]:  eta: 1:26:15  iter: 1739  total_loss: 0.7379  loss_cls: 0.3115  loss_box_reg: 0.2151  loss_mask: 0.1244  loss_rpn_cls: 0.003841  loss_rpn_loc: 0.06519  time: 1.7928  data_time: 0.9329  lr: 0.00025  max_mem: 3183M\n",
      "[03/15 18:50:03 d2.utils.events]:  eta: 1:25:31  iter: 1759  total_loss: 0.679  loss_cls: 0.3048  loss_box_reg: 0.2052  loss_mask: 0.1157  loss_rpn_cls: 0.00311  loss_rpn_loc: 0.05974  time: 1.7923  data_time: 0.8715  lr: 0.00025  max_mem: 3183M\n",
      "[03/15 18:50:38 d2.utils.events]:  eta: 1:24:57  iter: 1779  total_loss: 0.6876  loss_cls: 0.2984  loss_box_reg: 0.1944  loss_mask: 0.1235  loss_rpn_cls: 0.003425  loss_rpn_loc: 0.06345  time: 1.7916  data_time: 0.8644  lr: 0.00025  max_mem: 3183M\n",
      "[03/15 18:51:14 d2.utils.events]:  eta: 1:24:28  iter: 1799  total_loss: 0.7055  loss_cls: 0.2911  loss_box_reg: 0.2006  loss_mask: 0.1197  loss_rpn_cls: 0.003093  loss_rpn_loc: 0.06417  time: 1.7917  data_time: 0.9223  lr: 0.00025  max_mem: 3183M\n",
      "[03/15 18:51:49 d2.utils.events]:  eta: 1:23:54  iter: 1819  total_loss: 0.6458  loss_cls: 0.3012  loss_box_reg: 0.1764  loss_mask: 0.1039  loss_rpn_cls: 0.003074  loss_rpn_loc: 0.05716  time: 1.7912  data_time: 0.8743  lr: 0.00025  max_mem: 3183M\n",
      "[03/15 18:52:25 d2.utils.events]:  eta: 1:23:19  iter: 1839  total_loss: 0.6551  loss_cls: 0.263  loss_box_reg: 0.1923  loss_mask: 0.1105  loss_rpn_cls: 0.004134  loss_rpn_loc: 0.06177  time: 1.7912  data_time: 0.9121  lr: 0.00025  max_mem: 3183M\n",
      "[03/15 18:52:59 d2.utils.events]:  eta: 1:22:49  iter: 1859  total_loss: 0.6433  loss_cls: 0.2915  loss_box_reg: 0.207  loss_mask: 0.1224  loss_rpn_cls: 0.004748  loss_rpn_loc: 0.06139  time: 1.7905  data_time: 0.8298  lr: 0.00025  max_mem: 3183M\n",
      "[03/15 18:53:35 d2.utils.events]:  eta: 1:22:18  iter: 1879  total_loss: 0.6864  loss_cls: 0.2935  loss_box_reg: 0.1851  loss_mask: 0.1168  loss_rpn_cls: 0.002741  loss_rpn_loc: 0.05905  time: 1.7905  data_time: 0.9052  lr: 0.00025  max_mem: 3183M\n",
      "[03/15 18:54:12 d2.utils.events]:  eta: 1:21:49  iter: 1899  total_loss: 0.629  loss_cls: 0.2677  loss_box_reg: 0.1806  loss_mask: 0.1123  loss_rpn_cls: 0.001951  loss_rpn_loc: 0.06048  time: 1.7912  data_time: 0.9879  lr: 0.00025  max_mem: 3183M\n",
      "[03/15 18:54:47 d2.utils.events]:  eta: 1:21:15  iter: 1919  total_loss: 0.6173  loss_cls: 0.2454  loss_box_reg: 0.1863  loss_mask: 0.1194  loss_rpn_cls: 0.003156  loss_rpn_loc: 0.06256  time: 1.7906  data_time: 0.8482  lr: 0.00025  max_mem: 3183M\n",
      "[03/15 18:55:22 d2.utils.events]:  eta: 1:20:45  iter: 1939  total_loss: 0.6209  loss_cls: 0.2622  loss_box_reg: 0.1862  loss_mask: 0.1071  loss_rpn_cls: 0.003861  loss_rpn_loc: 0.05569  time: 1.7903  data_time: 0.8984  lr: 0.00025  max_mem: 3183M\n",
      "[03/15 18:55:57 d2.utils.events]:  eta: 1:20:14  iter: 1959  total_loss: 0.6109  loss_cls: 0.2566  loss_box_reg: 0.1828  loss_mask: 0.1094  loss_rpn_cls: 0.002713  loss_rpn_loc: 0.05979  time: 1.7896  data_time: 0.8303  lr: 0.00025  max_mem: 3183M\n",
      "[03/15 18:56:31 d2.utils.events]:  eta: 1:19:40  iter: 1979  total_loss: 0.6094  loss_cls: 0.2679  loss_box_reg: 0.1773  loss_mask: 0.1149  loss_rpn_cls: 0.001844  loss_rpn_loc: 0.05837  time: 1.7887  data_time: 0.8252  lr: 0.00025  max_mem: 3183M\n",
      "[03/15 18:57:06 d2.utils.events]:  eta: 1:19:11  iter: 1999  total_loss: 0.6128  loss_cls: 0.2464  loss_box_reg: 0.1881  loss_mask: 0.1115  loss_rpn_cls: 0.004645  loss_rpn_loc: 0.06039  time: 1.7886  data_time: 0.9034  lr: 0.00025  max_mem: 3183M\n",
      "[03/15 18:57:40 d2.utils.events]:  eta: 1:18:50  iter: 2019  total_loss: 0.6482  loss_cls: 0.2656  loss_box_reg: 0.1889  loss_mask: 0.122  loss_rpn_cls: 0.002162  loss_rpn_loc: 0.06575  time: 1.7877  data_time: 0.8293  lr: 0.00025  max_mem: 3183M\n",
      "[03/15 18:58:15 d2.utils.events]:  eta: 1:18:18  iter: 2039  total_loss: 0.6486  loss_cls: 0.2609  loss_box_reg: 0.1881  loss_mask: 0.1085  loss_rpn_cls: 0.001945  loss_rpn_loc: 0.05928  time: 1.7873  data_time: 0.8673  lr: 0.00025  max_mem: 3183M\n",
      "[03/15 18:58:52 d2.utils.events]:  eta: 1:17:47  iter: 2059  total_loss: 0.6038  loss_cls: 0.2316  loss_box_reg: 0.1883  loss_mask: 0.1177  loss_rpn_cls: 0.00289  loss_rpn_loc: 0.06322  time: 1.7876  data_time: 0.9338  lr: 0.00025  max_mem: 3183M\n",
      "[03/15 18:59:27 d2.utils.events]:  eta: 1:17:20  iter: 2079  total_loss: 0.5595  loss_cls: 0.2421  loss_box_reg: 0.1723  loss_mask: 0.1058  loss_rpn_cls: 0.001446  loss_rpn_loc: 0.054  time: 1.7874  data_time: 0.8933  lr: 0.00025  max_mem: 3183M\n",
      "[03/15 19:00:01 d2.utils.events]:  eta: 1:16:43  iter: 2099  total_loss: 0.5901  loss_cls: 0.2455  loss_box_reg: 0.1768  loss_mask: 0.1102  loss_rpn_cls: 0.001971  loss_rpn_loc: 0.05883  time: 1.7868  data_time: 0.8386  lr: 0.00025  max_mem: 3183M\n",
      "[03/15 19:00:37 d2.utils.events]:  eta: 1:16:11  iter: 2119  total_loss: 0.5701  loss_cls: 0.2344  loss_box_reg: 0.173  loss_mask: 0.1119  loss_rpn_cls: 0.002268  loss_rpn_loc: 0.05692  time: 1.7866  data_time: 0.8950  lr: 0.00025  max_mem: 3183M\n",
      "[03/15 19:01:11 d2.utils.events]:  eta: 1:15:33  iter: 2139  total_loss: 0.6093  loss_cls: 0.2416  loss_box_reg: 0.1838  loss_mask: 0.1213  loss_rpn_cls: 0.001803  loss_rpn_loc: 0.0561  time: 1.7859  data_time: 0.8325  lr: 0.00025  max_mem: 3183M\n",
      "[03/15 19:01:46 d2.utils.events]:  eta: 1:14:56  iter: 2159  total_loss: 0.5544  loss_cls: 0.218  loss_box_reg: 0.1725  loss_mask: 0.1078  loss_rpn_cls: 0.002186  loss_rpn_loc: 0.05893  time: 1.7855  data_time: 0.8736  lr: 0.00025  max_mem: 3183M\n",
      "[03/15 19:02:22 d2.utils.events]:  eta: 1:14:24  iter: 2179  total_loss: 0.6185  loss_cls: 0.2489  loss_box_reg: 0.1882  loss_mask: 0.1158  loss_rpn_cls: 0.002923  loss_rpn_loc: 0.06741  time: 1.7856  data_time: 0.9014  lr: 0.00025  max_mem: 3183M\n",
      "[03/15 19:02:58 d2.utils.events]:  eta: 1:14:04  iter: 2199  total_loss: 0.5721  loss_cls: 0.2055  loss_box_reg: 0.1774  loss_mask: 0.1138  loss_rpn_cls: 0.002356  loss_rpn_loc: 0.06163  time: 1.7856  data_time: 0.9112  lr: 0.00025  max_mem: 3183M\n",
      "[03/15 19:03:33 d2.utils.events]:  eta: 1:13:32  iter: 2219  total_loss: 0.5797  loss_cls: 0.2225  loss_box_reg: 0.1726  loss_mask: 0.1113  loss_rpn_cls: 0.00194  loss_rpn_loc: 0.05539  time: 1.7852  data_time: 0.8597  lr: 0.00025  max_mem: 3183M\n",
      "[03/15 19:04:08 d2.utils.events]:  eta: 1:12:50  iter: 2239  total_loss: 0.6185  loss_cls: 0.2616  loss_box_reg: 0.1857  loss_mask: 0.1126  loss_rpn_cls: 0.002889  loss_rpn_loc: 0.05996  time: 1.7851  data_time: 0.8767  lr: 0.00025  max_mem: 3183M\n",
      "[03/15 19:04:43 d2.utils.events]:  eta: 1:12:15  iter: 2259  total_loss: 0.5756  loss_cls: 0.2133  loss_box_reg: 0.1828  loss_mask: 0.1105  loss_rpn_cls: 0.0025  loss_rpn_loc: 0.05662  time: 1.7848  data_time: 0.8757  lr: 0.00025  max_mem: 3183M\n",
      "[03/15 19:05:19 d2.utils.events]:  eta: 1:11:42  iter: 2279  total_loss: 0.5985  loss_cls: 0.2359  loss_box_reg: 0.1821  loss_mask: 0.1207  loss_rpn_cls: 0.0027  loss_rpn_loc: 0.05747  time: 1.7847  data_time: 0.8909  lr: 0.00025  max_mem: 3183M\n",
      "[03/15 19:05:55 d2.utils.events]:  eta: 1:11:27  iter: 2299  total_loss: 0.5543  loss_cls: 0.2164  loss_box_reg: 0.1777  loss_mask: 0.1035  loss_rpn_cls: 0.001373  loss_rpn_loc: 0.05667  time: 1.7851  data_time: 0.9483  lr: 0.00025  max_mem: 3183M\n",
      "[03/15 19:06:32 d2.utils.events]:  eta: 1:10:54  iter: 2319  total_loss: 0.515  loss_cls: 0.1829  loss_box_reg: 0.1742  loss_mask: 0.111  loss_rpn_cls: 0.002011  loss_rpn_loc: 0.0503  time: 1.7855  data_time: 0.9446  lr: 0.00025  max_mem: 3183M\n",
      "[03/15 19:07:08 d2.utils.events]:  eta: 1:10:26  iter: 2339  total_loss: 0.6186  loss_cls: 0.2364  loss_box_reg: 0.1827  loss_mask: 0.1157  loss_rpn_cls: 0.002044  loss_rpn_loc: 0.06316  time: 1.7855  data_time: 0.9146  lr: 0.00025  max_mem: 3183M\n",
      "[03/15 19:07:42 d2.utils.events]:  eta: 1:10:01  iter: 2359  total_loss: 0.5748  loss_cls: 0.2161  loss_box_reg: 0.1799  loss_mask: 0.1115  loss_rpn_cls: 0.002659  loss_rpn_loc: 0.0596  time: 1.7851  data_time: 0.8700  lr: 0.00025  max_mem: 3183M\n",
      "[03/15 19:08:17 d2.utils.events]:  eta: 1:09:30  iter: 2379  total_loss: 0.5307  loss_cls: 0.2073  loss_box_reg: 0.1746  loss_mask: 0.1113  loss_rpn_cls: 0.0031  loss_rpn_loc: 0.05679  time: 1.7845  data_time: 0.8426  lr: 0.00025  max_mem: 3183M\n",
      "[03/15 19:08:52 d2.utils.events]:  eta: 1:08:57  iter: 2399  total_loss: 0.5391  loss_cls: 0.1901  loss_box_reg: 0.1745  loss_mask: 0.1059  loss_rpn_cls: 0.003863  loss_rpn_loc: 0.05626  time: 1.7844  data_time: 0.8947  lr: 0.00025  max_mem: 3183M\n",
      "[03/15 19:09:28 d2.utils.events]:  eta: 1:08:26  iter: 2419  total_loss: 0.574  loss_cls: 0.2242  loss_box_reg: 0.1799  loss_mask: 0.118  loss_rpn_cls: 0.002736  loss_rpn_loc: 0.06137  time: 1.7843  data_time: 0.8992  lr: 0.00025  max_mem: 3183M\n",
      "[03/15 19:10:05 d2.utils.events]:  eta: 1:07:52  iter: 2439  total_loss: 0.5396  loss_cls: 0.1823  loss_box_reg: 0.1822  loss_mask: 0.111  loss_rpn_cls: 0.002526  loss_rpn_loc: 0.06079  time: 1.7848  data_time: 0.9562  lr: 0.00025  max_mem: 3183M\n",
      "[03/15 19:10:40 d2.utils.events]:  eta: 1:07:20  iter: 2459  total_loss: 0.5728  loss_cls: 0.1959  loss_box_reg: 0.1871  loss_mask: 0.1153  loss_rpn_cls: 0.00189  loss_rpn_loc: 0.0602  time: 1.7845  data_time: 0.8766  lr: 0.00025  max_mem: 3183M\n",
      "[03/15 19:11:15 d2.utils.events]:  eta: 1:06:48  iter: 2479  total_loss: 0.5303  loss_cls: 0.1825  loss_box_reg: 0.1696  loss_mask: 0.1117  loss_rpn_cls: 0.001734  loss_rpn_loc: 0.05782  time: 1.7842  data_time: 0.8714  lr: 0.00025  max_mem: 3183M\n",
      "[03/15 19:11:50 d2.utils.events]:  eta: 1:06:18  iter: 2499  total_loss: 0.5349  loss_cls: 0.2241  loss_box_reg: 0.1684  loss_mask: 0.1119  loss_rpn_cls: 0.00235  loss_rpn_loc: 0.0602  time: 1.7841  data_time: 0.9213  lr: 0.00025  max_mem: 3183M\n",
      "[03/15 19:12:24 d2.utils.events]:  eta: 1:05:45  iter: 2519  total_loss: 0.511  loss_cls: 0.1875  loss_box_reg: 0.1608  loss_mask: 0.1018  loss_rpn_cls: 0.002018  loss_rpn_loc: 0.05538  time: 1.7834  data_time: 0.8109  lr: 0.00025  max_mem: 3183M\n",
      "[03/15 19:12:58 d2.utils.events]:  eta: 1:05:05  iter: 2539  total_loss: 0.5157  loss_cls: 0.1775  loss_box_reg: 0.1745  loss_mask: 0.1131  loss_rpn_cls: 0.001669  loss_rpn_loc: 0.05448  time: 1.7827  data_time: 0.8212  lr: 0.00025  max_mem: 3183M\n",
      "[03/15 19:13:33 d2.utils.events]:  eta: 1:04:39  iter: 2559  total_loss: 0.5329  loss_cls: 0.1793  loss_box_reg: 0.1761  loss_mask: 0.1151  loss_rpn_cls: 0.002423  loss_rpn_loc: 0.05577  time: 1.7826  data_time: 0.8812  lr: 0.00025  max_mem: 3183M\n",
      "[03/15 19:14:10 d2.utils.events]:  eta: 1:04:04  iter: 2579  total_loss: 0.5062  loss_cls: 0.1676  loss_box_reg: 0.1645  loss_mask: 0.1014  loss_rpn_cls: 0.001638  loss_rpn_loc: 0.05297  time: 1.7830  data_time: 0.9256  lr: 0.00025  max_mem: 3183M\n",
      "[03/15 19:14:45 d2.utils.events]:  eta: 1:03:34  iter: 2599  total_loss: 0.538  loss_cls: 0.1879  loss_box_reg: 0.1696  loss_mask: 0.1162  loss_rpn_cls: 0.0009872  loss_rpn_loc: 0.0581  time: 1.7828  data_time: 0.8740  lr: 0.00025  max_mem: 3183M\n",
      "[03/15 19:15:19 d2.utils.events]:  eta: 1:02:58  iter: 2619  total_loss: 0.5482  loss_cls: 0.179  loss_box_reg: 0.1663  loss_mask: 0.1078  loss_rpn_cls: 0.002218  loss_rpn_loc: 0.06122  time: 1.7822  data_time: 0.8524  lr: 0.00025  max_mem: 3183M\n",
      "[03/15 19:15:55 d2.utils.events]:  eta: 1:02:26  iter: 2639  total_loss: 0.5245  loss_cls: 0.1873  loss_box_reg: 0.1648  loss_mask: 0.1031  loss_rpn_cls: 0.002406  loss_rpn_loc: 0.05615  time: 1.7820  data_time: 0.8764  lr: 0.00025  max_mem: 3183M\n",
      "[03/15 19:16:30 d2.utils.events]:  eta: 1:01:42  iter: 2659  total_loss: 0.4995  loss_cls: 0.1716  loss_box_reg: 0.1644  loss_mask: 0.1161  loss_rpn_cls: 0.002238  loss_rpn_loc: 0.05329  time: 1.7820  data_time: 0.8937  lr: 0.00025  max_mem: 3183M\n",
      "[03/15 19:17:05 d2.utils.events]:  eta: 1:01:09  iter: 2679  total_loss: 0.5172  loss_cls: 0.1748  loss_box_reg: 0.1647  loss_mask: 0.102  loss_rpn_cls: 0.001451  loss_rpn_loc: 0.05355  time: 1.7816  data_time: 0.8307  lr: 0.00025  max_mem: 3183M\n",
      "[03/15 19:17:41 d2.utils.events]:  eta: 1:00:39  iter: 2699  total_loss: 0.4691  loss_cls: 0.1545  loss_box_reg: 0.1535  loss_mask: 0.1047  loss_rpn_cls: 0.002246  loss_rpn_loc: 0.05465  time: 1.7817  data_time: 0.9068  lr: 0.00025  max_mem: 3183M\n",
      "[03/15 19:18:18 d2.utils.events]:  eta: 1:00:07  iter: 2719  total_loss: 0.4992  loss_cls: 0.167  loss_box_reg: 0.1721  loss_mask: 0.106  loss_rpn_cls: 0.001511  loss_rpn_loc: 0.05861  time: 1.7822  data_time: 0.9719  lr: 0.00025  max_mem: 3183M\n",
      "[03/15 19:18:53 d2.utils.events]:  eta: 0:59:34  iter: 2739  total_loss: 0.4648  loss_cls: 0.1601  loss_box_reg: 0.1568  loss_mask: 0.1052  loss_rpn_cls: 0.001028  loss_rpn_loc: 0.05227  time: 1.7821  data_time: 0.9049  lr: 0.00025  max_mem: 3183M\n",
      "[03/15 19:19:28 d2.utils.events]:  eta: 0:59:01  iter: 2759  total_loss: 0.4801  loss_cls: 0.1762  loss_box_reg: 0.1575  loss_mask: 0.104  loss_rpn_cls: 0.001046  loss_rpn_loc: 0.05307  time: 1.7819  data_time: 0.8771  lr: 0.00025  max_mem: 3183M\n",
      "[03/15 19:20:03 d2.utils.events]:  eta: 0:58:31  iter: 2779  total_loss: 0.4777  loss_cls: 0.1533  loss_box_reg: 0.1663  loss_mask: 0.1068  loss_rpn_cls: 0.0009546  loss_rpn_loc: 0.05755  time: 1.7817  data_time: 0.8727  lr: 0.00025  max_mem: 3183M\n",
      "[03/15 19:20:38 d2.utils.events]:  eta: 0:57:56  iter: 2799  total_loss: 0.499  loss_cls: 0.169  loss_box_reg: 0.1693  loss_mask: 0.1018  loss_rpn_cls: 0.00188  loss_rpn_loc: 0.0549  time: 1.7813  data_time: 0.8457  lr: 0.00025  max_mem: 3183M\n",
      "[03/15 19:21:12 d2.utils.events]:  eta: 0:57:23  iter: 2819  total_loss: 0.4847  loss_cls: 0.1583  loss_box_reg: 0.1623  loss_mask: 0.09959  loss_rpn_cls: 0.001615  loss_rpn_loc: 0.05151  time: 1.7807  data_time: 0.8233  lr: 0.00025  max_mem: 3183M\n",
      "[03/15 19:21:47 d2.utils.events]:  eta: 0:56:54  iter: 2839  total_loss: 0.4829  loss_cls: 0.1594  loss_box_reg: 0.1562  loss_mask: 0.1049  loss_rpn_cls: 0.001486  loss_rpn_loc: 0.05328  time: 1.7806  data_time: 0.8924  lr: 0.00025  max_mem: 3183M\n",
      "[03/15 19:22:21 d2.utils.events]:  eta: 0:56:20  iter: 2859  total_loss: 0.5152  loss_cls: 0.1679  loss_box_reg: 0.1655  loss_mask: 0.1114  loss_rpn_cls: 0.001022  loss_rpn_loc: 0.05568  time: 1.7801  data_time: 0.8359  lr: 0.00025  max_mem: 3183M\n",
      "[03/15 19:22:56 d2.utils.events]:  eta: 0:55:50  iter: 2879  total_loss: 0.4574  loss_cls: 0.1525  loss_box_reg: 0.1479  loss_mask: 0.09698  loss_rpn_cls: 0.0009957  loss_rpn_loc: 0.0521  time: 1.7798  data_time: 0.8704  lr: 0.00025  max_mem: 3183M\n",
      "[03/15 19:23:32 d2.utils.events]:  eta: 0:55:13  iter: 2899  total_loss: 0.4455  loss_cls: 0.1487  loss_box_reg: 0.148  loss_mask: 0.1039  loss_rpn_cls: 0.001528  loss_rpn_loc: 0.0531  time: 1.7798  data_time: 0.9027  lr: 0.00025  max_mem: 3183M\n",
      "[03/15 19:24:09 d2.utils.events]:  eta: 0:54:48  iter: 2919  total_loss: 0.5209  loss_cls: 0.159  loss_box_reg: 0.1738  loss_mask: 0.1157  loss_rpn_cls: 0.001363  loss_rpn_loc: 0.05647  time: 1.7803  data_time: 0.9678  lr: 0.00025  max_mem: 3183M\n",
      "[03/15 19:24:43 d2.utils.events]:  eta: 0:54:16  iter: 2939  total_loss: 0.4809  loss_cls: 0.1699  loss_box_reg: 0.1632  loss_mask: 0.09883  loss_rpn_cls: 0.001389  loss_rpn_loc: 0.05708  time: 1.7799  data_time: 0.8501  lr: 0.00025  max_mem: 3183M\n",
      "[03/15 19:25:18 d2.utils.events]:  eta: 0:53:44  iter: 2959  total_loss: 0.5054  loss_cls: 0.1646  loss_box_reg: 0.167  loss_mask: 0.1032  loss_rpn_cls: 0.001435  loss_rpn_loc: 0.05511  time: 1.7795  data_time: 0.8409  lr: 0.00025  max_mem: 3183M\n",
      "[03/15 19:25:52 d2.utils.events]:  eta: 0:53:13  iter: 2979  total_loss: 0.4477  loss_cls: 0.15  loss_box_reg: 0.1471  loss_mask: 0.09717  loss_rpn_cls: 0.001765  loss_rpn_loc: 0.05317  time: 1.7790  data_time: 0.8276  lr: 0.00025  max_mem: 3183M\n",
      "[03/15 19:26:26 d2.utils.events]:  eta: 0:52:38  iter: 2999  total_loss: 0.4573  loss_cls: 0.14  loss_box_reg: 0.1519  loss_mask: 0.09671  loss_rpn_cls: 0.00103  loss_rpn_loc: 0.05547  time: 1.7785  data_time: 0.8223  lr: 0.00025  max_mem: 3183M\n",
      "[03/15 19:27:01 d2.utils.events]:  eta: 0:52:08  iter: 3019  total_loss: 0.4822  loss_cls: 0.1427  loss_box_reg: 0.1569  loss_mask: 0.09876  loss_rpn_cls: 0.001868  loss_rpn_loc: 0.0555  time: 1.7783  data_time: 0.8636  lr: 0.00025  max_mem: 3183M\n",
      "[03/15 19:27:36 d2.utils.events]:  eta: 0:51:44  iter: 3039  total_loss: 0.4745  loss_cls: 0.1522  loss_box_reg: 0.1578  loss_mask: 0.09523  loss_rpn_cls: 0.001192  loss_rpn_loc: 0.05557  time: 1.7780  data_time: 0.8426  lr: 0.00025  max_mem: 3183M\n",
      "[03/15 19:28:12 d2.utils.events]:  eta: 0:51:08  iter: 3059  total_loss: 0.4829  loss_cls: 0.1391  loss_box_reg: 0.1716  loss_mask: 0.1115  loss_rpn_cls: 0.002907  loss_rpn_loc: 0.05475  time: 1.7782  data_time: 0.9295  lr: 0.00025  max_mem: 3183M\n",
      "[03/15 19:28:48 d2.utils.events]:  eta: 0:50:34  iter: 3079  total_loss: 0.4249  loss_cls: 0.123  loss_box_reg: 0.1536  loss_mask: 0.09425  loss_rpn_cls: 0.0009533  loss_rpn_loc: 0.04668  time: 1.7784  data_time: 0.9174  lr: 0.00025  max_mem: 3183M\n",
      "[03/15 19:29:23 d2.utils.events]:  eta: 0:50:03  iter: 3099  total_loss: 0.4473  loss_cls: 0.136  loss_box_reg: 0.1571  loss_mask: 0.1036  loss_rpn_cls: 0.001111  loss_rpn_loc: 0.05003  time: 1.7780  data_time: 0.8565  lr: 0.00025  max_mem: 3183M\n",
      "[03/15 19:29:58 d2.utils.events]:  eta: 0:49:32  iter: 3119  total_loss: 0.4332  loss_cls: 0.1305  loss_box_reg: 0.1538  loss_mask: 0.1049  loss_rpn_cls: 0.001659  loss_rpn_loc: 0.05461  time: 1.7779  data_time: 0.8812  lr: 0.00025  max_mem: 3183M\n",
      "[03/15 19:30:32 d2.utils.events]:  eta: 0:49:01  iter: 3139  total_loss: 0.4398  loss_cls: 0.1391  loss_box_reg: 0.1499  loss_mask: 0.09466  loss_rpn_cls: 0.00438  loss_rpn_loc: 0.0514  time: 1.7774  data_time: 0.8312  lr: 0.00025  max_mem: 3183M\n",
      "[03/15 19:31:06 d2.utils.events]:  eta: 0:48:28  iter: 3159  total_loss: 0.4529  loss_cls: 0.1338  loss_box_reg: 0.1541  loss_mask: 0.1079  loss_rpn_cls: 0.001808  loss_rpn_loc: 0.05278  time: 1.7770  data_time: 0.8369  lr: 0.00025  max_mem: 3183M\n",
      "[03/15 19:31:40 d2.utils.events]:  eta: 0:47:55  iter: 3179  total_loss: 0.449  loss_cls: 0.1226  loss_box_reg: 0.1528  loss_mask: 0.106  loss_rpn_cls: 0.001237  loss_rpn_loc: 0.05074  time: 1.7766  data_time: 0.8402  lr: 0.00025  max_mem: 3183M\n",
      "[03/15 19:32:14 d2.utils.events]:  eta: 0:47:17  iter: 3199  total_loss: 0.4354  loss_cls: 0.1363  loss_box_reg: 0.1547  loss_mask: 0.1049  loss_rpn_cls: 0.001208  loss_rpn_loc: 0.0518  time: 1.7761  data_time: 0.8305  lr: 0.00025  max_mem: 3183M\n",
      "[03/15 19:32:49 d2.utils.events]:  eta: 0:46:44  iter: 3219  total_loss: 0.4556  loss_cls: 0.136  loss_box_reg: 0.1505  loss_mask: 0.09956  loss_rpn_cls: 0.0009144  loss_rpn_loc: 0.0549  time: 1.7758  data_time: 0.8464  lr: 0.00025  max_mem: 3183M\n",
      "[03/15 19:33:23 d2.utils.events]:  eta: 0:46:13  iter: 3239  total_loss: 0.438  loss_cls: 0.1298  loss_box_reg: 0.151  loss_mask: 0.1016  loss_rpn_cls: 0.001841  loss_rpn_loc: 0.05109  time: 1.7754  data_time: 0.8443  lr: 0.00025  max_mem: 3183M\n",
      "[03/15 19:33:59 d2.utils.events]:  eta: 0:45:47  iter: 3259  total_loss: 0.4046  loss_cls: 0.1172  loss_box_reg: 0.1463  loss_mask: 0.08693  loss_rpn_cls: 0.003891  loss_rpn_loc: 0.04905  time: 1.7755  data_time: 0.8984  lr: 0.00025  max_mem: 3183M\n",
      "[03/15 19:34:33 d2.utils.events]:  eta: 0:45:13  iter: 3279  total_loss: 0.4556  loss_cls: 0.1272  loss_box_reg: 0.1524  loss_mask: 0.1088  loss_rpn_cls: 0.001293  loss_rpn_loc: 0.05551  time: 1.7750  data_time: 0.8155  lr: 0.00025  max_mem: 3183M\n",
      "[03/15 19:35:11 d2.utils.events]:  eta: 0:44:40  iter: 3299  total_loss: 0.4227  loss_cls: 0.1167  loss_box_reg: 0.1533  loss_mask: 0.1045  loss_rpn_cls: 0.003435  loss_rpn_loc: 0.05134  time: 1.7757  data_time: 0.9852  lr: 0.00025  max_mem: 3183M\n",
      "[03/15 19:35:45 d2.utils.events]:  eta: 0:44:09  iter: 3319  total_loss: 0.4627  loss_cls: 0.1424  loss_box_reg: 0.1568  loss_mask: 0.1016  loss_rpn_cls: 0.002298  loss_rpn_loc: 0.05512  time: 1.7753  data_time: 0.8288  lr: 0.00025  max_mem: 3183M\n",
      "[03/15 19:36:20 d2.utils.events]:  eta: 0:43:35  iter: 3339  total_loss: 0.4285  loss_cls: 0.136  loss_box_reg: 0.149  loss_mask: 0.09727  loss_rpn_cls: 0.002329  loss_rpn_loc: 0.04877  time: 1.7752  data_time: 0.8860  lr: 0.00025  max_mem: 3183M\n",
      "[03/15 19:36:55 d2.utils.events]:  eta: 0:43:01  iter: 3359  total_loss: 0.4068  loss_cls: 0.1113  loss_box_reg: 0.1505  loss_mask: 0.09689  loss_rpn_cls: 0.001338  loss_rpn_loc: 0.04692  time: 1.7750  data_time: 0.8668  lr: 0.00025  max_mem: 3183M\n",
      "[03/15 19:37:30 d2.utils.events]:  eta: 0:42:28  iter: 3379  total_loss: 0.4187  loss_cls: 0.1175  loss_box_reg: 0.1487  loss_mask: 0.09652  loss_rpn_cls: 0.001182  loss_rpn_loc: 0.05347  time: 1.7749  data_time: 0.8323  lr: 0.00025  max_mem: 3183M\n",
      "[03/15 19:38:06 d2.utils.events]:  eta: 0:41:59  iter: 3399  total_loss: 0.4616  loss_cls: 0.1286  loss_box_reg: 0.1556  loss_mask: 0.1065  loss_rpn_cls: 0.002023  loss_rpn_loc: 0.05826  time: 1.7749  data_time: 0.9055  lr: 0.00025  max_mem: 3183M\n",
      "[03/15 19:38:40 d2.utils.events]:  eta: 0:41:27  iter: 3419  total_loss: 0.4397  loss_cls: 0.1298  loss_box_reg: 0.1513  loss_mask: 0.1045  loss_rpn_cls: 0.001238  loss_rpn_loc: 0.05084  time: 1.7746  data_time: 0.8474  lr: 0.00025  max_mem: 3183M\n",
      "[03/15 19:39:16 d2.utils.events]:  eta: 0:40:57  iter: 3439  total_loss: 0.4424  loss_cls: 0.1333  loss_box_reg: 0.155  loss_mask: 0.1005  loss_rpn_cls: 0.001176  loss_rpn_loc: 0.05442  time: 1.7746  data_time: 0.8828  lr: 0.00025  max_mem: 3183M\n",
      "[03/15 19:39:51 d2.utils.events]:  eta: 0:40:23  iter: 3459  total_loss: 0.4101  loss_cls: 0.1221  loss_box_reg: 0.148  loss_mask: 0.09041  loss_rpn_cls: 0.001679  loss_rpn_loc: 0.05069  time: 1.7747  data_time: 0.9093  lr: 0.00025  max_mem: 3183M\n",
      "[03/15 19:40:26 d2.utils.events]:  eta: 0:39:51  iter: 3479  total_loss: 0.3998  loss_cls: 0.09932  loss_box_reg: 0.1509  loss_mask: 0.09782  loss_rpn_cls: 0.001709  loss_rpn_loc: 0.04925  time: 1.7743  data_time: 0.8143  lr: 0.00025  max_mem: 3183M\n",
      "[03/15 19:41:00 d2.utils.events]:  eta: 0:39:16  iter: 3499  total_loss: 0.4269  loss_cls: 0.1322  loss_box_reg: 0.144  loss_mask: 0.1008  loss_rpn_cls: 0.001564  loss_rpn_loc: 0.05003  time: 1.7740  data_time: 0.8366  lr: 0.00025  max_mem: 3183M\n",
      "[03/15 19:41:35 d2.utils.events]:  eta: 0:38:45  iter: 3519  total_loss: 0.378  loss_cls: 0.1066  loss_box_reg: 0.14  loss_mask: 0.08758  loss_rpn_cls: 0.0009177  loss_rpn_loc: 0.04935  time: 1.7738  data_time: 0.8829  lr: 0.00025  max_mem: 3183M\n",
      "[03/15 19:42:10 d2.utils.events]:  eta: 0:38:14  iter: 3539  total_loss: 0.4527  loss_cls: 0.1406  loss_box_reg: 0.1721  loss_mask: 0.1022  loss_rpn_cls: 0.00135  loss_rpn_loc: 0.05253  time: 1.7736  data_time: 0.8641  lr: 0.00025  max_mem: 3183M\n",
      "[03/15 19:42:45 d2.utils.events]:  eta: 0:37:42  iter: 3559  total_loss: 0.4353  loss_cls: 0.1169  loss_box_reg: 0.1559  loss_mask: 0.1005  loss_rpn_cls: 0.0008827  loss_rpn_loc: 0.05139  time: 1.7734  data_time: 0.8657  lr: 0.00025  max_mem: 3183M\n",
      "[03/15 19:43:20 d2.utils.events]:  eta: 0:37:11  iter: 3579  total_loss: 0.4151  loss_cls: 0.1116  loss_box_reg: 0.1443  loss_mask: 0.09582  loss_rpn_cls: 0.001278  loss_rpn_loc: 0.04848  time: 1.7735  data_time: 0.9127  lr: 0.00025  max_mem: 3183M\n",
      "[03/15 19:43:55 d2.utils.events]:  eta: 0:36:39  iter: 3599  total_loss: 0.3973  loss_cls: 0.1121  loss_box_reg: 0.144  loss_mask: 0.0987  loss_rpn_cls: 0.0009233  loss_rpn_loc: 0.04992  time: 1.7733  data_time: 0.8817  lr: 0.00025  max_mem: 3183M\n",
      "[03/15 19:44:31 d2.utils.events]:  eta: 0:36:08  iter: 3619  total_loss: 0.3793  loss_cls: 0.1063  loss_box_reg: 0.1344  loss_mask: 0.08812  loss_rpn_cls: 0.0008206  loss_rpn_loc: 0.04672  time: 1.7735  data_time: 0.9362  lr: 0.00025  max_mem: 3183M\n",
      "[03/15 19:45:07 d2.utils.events]:  eta: 0:35:38  iter: 3639  total_loss: 0.4046  loss_cls: 0.1082  loss_box_reg: 0.1449  loss_mask: 0.1017  loss_rpn_cls: 0.001045  loss_rpn_loc: 0.04811  time: 1.7735  data_time: 0.9114  lr: 0.00025  max_mem: 3183M\n",
      "[03/15 19:45:42 d2.utils.events]:  eta: 0:35:06  iter: 3659  total_loss: 0.3872  loss_cls: 0.1113  loss_box_reg: 0.1458  loss_mask: 0.09038  loss_rpn_cls: 0.001595  loss_rpn_loc: 0.04828  time: 1.7734  data_time: 0.8599  lr: 0.00025  max_mem: 3183M\n",
      "[03/15 19:46:16 d2.utils.events]:  eta: 0:34:36  iter: 3679  total_loss: 0.3829  loss_cls: 0.1053  loss_box_reg: 0.1404  loss_mask: 0.09198  loss_rpn_cls: 0.001252  loss_rpn_loc: 0.04617  time: 1.7730  data_time: 0.8291  lr: 0.00025  max_mem: 3183M\n",
      "[03/15 19:46:51 d2.utils.events]:  eta: 0:34:02  iter: 3699  total_loss: 0.3817  loss_cls: 0.09958  loss_box_reg: 0.1429  loss_mask: 0.09671  loss_rpn_cls: 0.001293  loss_rpn_loc: 0.04817  time: 1.7727  data_time: 0.8606  lr: 0.00025  max_mem: 3183M\n",
      "[03/15 19:47:25 d2.utils.events]:  eta: 0:33:28  iter: 3719  total_loss: 0.4114  loss_cls: 0.1052  loss_box_reg: 0.1501  loss_mask: 0.1001  loss_rpn_cls: 0.001032  loss_rpn_loc: 0.05338  time: 1.7725  data_time: 0.8559  lr: 0.00025  max_mem: 3183M\n",
      "[03/15 19:48:00 d2.utils.events]:  eta: 0:32:56  iter: 3739  total_loss: 0.3597  loss_cls: 0.1059  loss_box_reg: 0.1317  loss_mask: 0.08563  loss_rpn_cls: 0.001625  loss_rpn_loc: 0.04748  time: 1.7722  data_time: 0.8400  lr: 0.00025  max_mem: 3183M\n",
      "[03/15 19:48:37 d2.utils.events]:  eta: 0:32:27  iter: 3759  total_loss: 0.3726  loss_cls: 0.1078  loss_box_reg: 0.1305  loss_mask: 0.08664  loss_rpn_cls: 0.001242  loss_rpn_loc: 0.04754  time: 1.7726  data_time: 0.9302  lr: 0.00025  max_mem: 3183M\n",
      "[03/15 19:49:12 d2.utils.events]:  eta: 0:31:55  iter: 3779  total_loss: 0.3937  loss_cls: 0.1137  loss_box_reg: 0.1376  loss_mask: 0.09804  loss_rpn_cls: 0.0009209  loss_rpn_loc: 0.05107  time: 1.7726  data_time: 0.8861  lr: 0.00025  max_mem: 3183M\n",
      "[03/15 19:49:47 d2.utils.events]:  eta: 0:31:23  iter: 3799  total_loss: 0.3909  loss_cls: 0.1048  loss_box_reg: 0.1395  loss_mask: 0.1007  loss_rpn_cls: 0.00115  loss_rpn_loc: 0.04832  time: 1.7725  data_time: 0.8822  lr: 0.00025  max_mem: 3183M\n",
      "[03/15 19:50:21 d2.utils.events]:  eta: 0:30:52  iter: 3819  total_loss: 0.3518  loss_cls: 0.1028  loss_box_reg: 0.1257  loss_mask: 0.08274  loss_rpn_cls: 0.0009965  loss_rpn_loc: 0.04609  time: 1.7721  data_time: 0.8353  lr: 0.00025  max_mem: 3183M\n",
      "[03/15 19:50:57 d2.utils.events]:  eta: 0:30:21  iter: 3839  total_loss: 0.3815  loss_cls: 0.1007  loss_box_reg: 0.1396  loss_mask: 0.0911  loss_rpn_cls: 0.003244  loss_rpn_loc: 0.04908  time: 1.7722  data_time: 0.9235  lr: 0.00025  max_mem: 3183M\n",
      "[03/15 19:51:31 d2.utils.events]:  eta: 0:29:49  iter: 3859  total_loss: 0.3621  loss_cls: 0.0958  loss_box_reg: 0.1336  loss_mask: 0.09404  loss_rpn_cls: 0.0008989  loss_rpn_loc: 0.04499  time: 1.7719  data_time: 0.8545  lr: 0.00025  max_mem: 3183M\n",
      "[03/15 19:52:06 d2.utils.events]:  eta: 0:29:18  iter: 3879  total_loss: 0.4239  loss_cls: 0.1141  loss_box_reg: 0.1583  loss_mask: 0.106  loss_rpn_cls: 0.001203  loss_rpn_loc: 0.05128  time: 1.7717  data_time: 0.8533  lr: 0.00025  max_mem: 3183M\n",
      "[03/15 19:52:41 d2.utils.events]:  eta: 0:28:47  iter: 3899  total_loss: 0.3721  loss_cls: 0.09866  loss_box_reg: 0.1382  loss_mask: 0.08649  loss_rpn_cls: 0.001227  loss_rpn_loc: 0.04448  time: 1.7715  data_time: 0.8542  lr: 0.00025  max_mem: 3183M\n",
      "[03/15 19:53:15 d2.utils.events]:  eta: 0:28:14  iter: 3919  total_loss: 0.4056  loss_cls: 0.1104  loss_box_reg: 0.14  loss_mask: 0.1018  loss_rpn_cls: 0.0009133  loss_rpn_loc: 0.0508  time: 1.7713  data_time: 0.8377  lr: 0.00025  max_mem: 3183M\n",
      "[03/15 19:53:51 d2.utils.events]:  eta: 0:27:44  iter: 3939  total_loss: 0.407  loss_cls: 0.09869  loss_box_reg: 0.1433  loss_mask: 0.1047  loss_rpn_cls: 0.0009494  loss_rpn_loc: 0.05202  time: 1.7715  data_time: 0.9302  lr: 0.00025  max_mem: 3183M\n",
      "[03/15 19:54:27 d2.utils.events]:  eta: 0:27:13  iter: 3959  total_loss: 0.424  loss_cls: 0.112  loss_box_reg: 0.1514  loss_mask: 0.1066  loss_rpn_cls: 0.001181  loss_rpn_loc: 0.05163  time: 1.7716  data_time: 0.9167  lr: 0.00025  max_mem: 3183M\n",
      "[03/15 19:55:02 d2.utils.events]:  eta: 0:26:41  iter: 3979  total_loss: 0.3971  loss_cls: 0.1079  loss_box_reg: 0.1378  loss_mask: 0.09949  loss_rpn_cls: 0.001089  loss_rpn_loc: 0.04809  time: 1.7715  data_time: 0.8566  lr: 0.00025  max_mem: 3183M\n",
      "[03/15 19:55:37 d2.utils.events]:  eta: 0:26:10  iter: 3999  total_loss: 0.397  loss_cls: 0.1034  loss_box_reg: 0.143  loss_mask: 0.1007  loss_rpn_cls: 0.0007971  loss_rpn_loc: 0.05325  time: 1.7712  data_time: 0.8550  lr: 0.00025  max_mem: 3183M\n",
      "[03/15 19:56:12 d2.utils.events]:  eta: 0:25:39  iter: 4019  total_loss: 0.3677  loss_cls: 0.08702  loss_box_reg: 0.1411  loss_mask: 0.09366  loss_rpn_cls: 0.000897  loss_rpn_loc: 0.04913  time: 1.7713  data_time: 0.9239  lr: 0.00025  max_mem: 3183M\n",
      "[03/15 19:56:46 d2.utils.events]:  eta: 0:25:06  iter: 4039  total_loss: 0.3851  loss_cls: 0.09601  loss_box_reg: 0.1472  loss_mask: 0.09455  loss_rpn_cls: 0.0008287  loss_rpn_loc: 0.05186  time: 1.7709  data_time: 0.8144  lr: 0.00025  max_mem: 3183M\n",
      "[03/15 19:57:22 d2.utils.events]:  eta: 0:24:35  iter: 4059  total_loss: 0.3752  loss_cls: 0.09237  loss_box_reg: 0.1376  loss_mask: 0.0961  loss_rpn_cls: 0.0008228  loss_rpn_loc: 0.04651  time: 1.7709  data_time: 0.8827  lr: 0.00025  max_mem: 3183M\n",
      "[03/15 19:57:56 d2.utils.events]:  eta: 0:24:04  iter: 4079  total_loss: 0.3564  loss_cls: 0.09136  loss_box_reg: 0.1282  loss_mask: 0.09027  loss_rpn_cls: 0.0008658  loss_rpn_loc: 0.04708  time: 1.7706  data_time: 0.8240  lr: 0.00025  max_mem: 3183M\n",
      "[03/15 19:58:33 d2.utils.events]:  eta: 0:23:33  iter: 4099  total_loss: 0.3673  loss_cls: 0.09425  loss_box_reg: 0.138  loss_mask: 0.09331  loss_rpn_cls: 0.000849  loss_rpn_loc: 0.05173  time: 1.7709  data_time: 0.9287  lr: 0.00025  max_mem: 3183M\n",
      "[03/15 19:59:08 d2.utils.events]:  eta: 0:23:02  iter: 4119  total_loss: 0.3566  loss_cls: 0.08464  loss_box_reg: 0.1333  loss_mask: 0.09443  loss_rpn_cls: 0.001049  loss_rpn_loc: 0.04939  time: 1.7709  data_time: 0.9083  lr: 0.00025  max_mem: 3183M\n",
      "[03/15 19:59:43 d2.utils.events]:  eta: 0:22:30  iter: 4139  total_loss: 0.3839  loss_cls: 0.09238  loss_box_reg: 0.1443  loss_mask: 0.09437  loss_rpn_cls: 0.002393  loss_rpn_loc: 0.04886  time: 1.7707  data_time: 0.8397  lr: 0.00025  max_mem: 3183M\n",
      "[03/15 20:00:18 d2.utils.events]:  eta: 0:21:59  iter: 4159  total_loss: 0.3358  loss_cls: 0.08246  loss_box_reg: 0.13  loss_mask: 0.08596  loss_rpn_cls: 0.001013  loss_rpn_loc: 0.04491  time: 1.7706  data_time: 0.8831  lr: 0.00025  max_mem: 3183M\n",
      "[03/15 20:00:53 d2.utils.events]:  eta: 0:21:28  iter: 4179  total_loss: 0.3849  loss_cls: 0.1018  loss_box_reg: 0.1338  loss_mask: 0.09683  loss_rpn_cls: 0.001417  loss_rpn_loc: 0.05021  time: 1.7706  data_time: 0.8781  lr: 0.00025  max_mem: 3183M\n",
      "[03/15 20:01:28 d2.utils.events]:  eta: 0:20:57  iter: 4199  total_loss: 0.3559  loss_cls: 0.0853  loss_box_reg: 0.1315  loss_mask: 0.08975  loss_rpn_cls: 0.0009937  loss_rpn_loc: 0.05033  time: 1.7705  data_time: 0.8865  lr: 0.00025  max_mem: 3183M\n",
      "[03/15 20:02:03 d2.utils.events]:  eta: 0:20:25  iter: 4219  total_loss: 0.3727  loss_cls: 0.08877  loss_box_reg: 0.1381  loss_mask: 0.09302  loss_rpn_cls: 0.001045  loss_rpn_loc: 0.04649  time: 1.7704  data_time: 0.8759  lr: 0.00025  max_mem: 3183M\n",
      "[03/15 20:02:40 d2.utils.events]:  eta: 0:19:54  iter: 4239  total_loss: 0.3857  loss_cls: 0.09638  loss_box_reg: 0.1511  loss_mask: 0.09652  loss_rpn_cls: 0.0009061  loss_rpn_loc: 0.04965  time: 1.7707  data_time: 0.9371  lr: 0.00025  max_mem: 3183M\n",
      "[03/15 20:03:16 d2.utils.events]:  eta: 0:19:22  iter: 4259  total_loss: 0.3608  loss_cls: 0.08637  loss_box_reg: 0.1342  loss_mask: 0.08956  loss_rpn_cls: 0.001012  loss_rpn_loc: 0.04706  time: 1.7708  data_time: 0.9217  lr: 0.00025  max_mem: 3183M\n",
      "[03/15 20:03:51 d2.utils.events]:  eta: 0:18:50  iter: 4279  total_loss: 0.3633  loss_cls: 0.08578  loss_box_reg: 0.1344  loss_mask: 0.09136  loss_rpn_cls: 0.001077  loss_rpn_loc: 0.04794  time: 1.7707  data_time: 0.8594  lr: 0.00025  max_mem: 3183M\n",
      "[03/15 20:04:25 d2.utils.events]:  eta: 0:18:18  iter: 4299  total_loss: 0.3491  loss_cls: 0.09113  loss_box_reg: 0.1322  loss_mask: 0.08925  loss_rpn_cls: 0.0007072  loss_rpn_loc: 0.04676  time: 1.7704  data_time: 0.8192  lr: 0.00025  max_mem: 3183M\n",
      "[03/15 20:04:59 d2.utils.events]:  eta: 0:17:47  iter: 4319  total_loss: 0.3674  loss_cls: 0.0877  loss_box_reg: 0.1394  loss_mask: 0.09377  loss_rpn_cls: 0.001119  loss_rpn_loc: 0.04886  time: 1.7700  data_time: 0.8340  lr: 0.00025  max_mem: 3183M\n",
      "[03/15 20:05:34 d2.utils.events]:  eta: 0:17:16  iter: 4339  total_loss: 0.3692  loss_cls: 0.09564  loss_box_reg: 0.1305  loss_mask: 0.09402  loss_rpn_cls: 0.0007019  loss_rpn_loc: 0.04878  time: 1.7700  data_time: 0.8929  lr: 0.00025  max_mem: 3183M\n",
      "[03/15 20:06:09 d2.utils.events]:  eta: 0:16:45  iter: 4359  total_loss: 0.371  loss_cls: 0.09508  loss_box_reg: 0.1343  loss_mask: 0.09323  loss_rpn_cls: 0.0007582  loss_rpn_loc: 0.04976  time: 1.7699  data_time: 0.8833  lr: 0.00025  max_mem: 3183M\n",
      "[03/15 20:06:43 d2.utils.events]:  eta: 0:16:14  iter: 4379  total_loss: 0.3501  loss_cls: 0.08173  loss_box_reg: 0.1345  loss_mask: 0.09434  loss_rpn_cls: 0.000853  loss_rpn_loc: 0.04781  time: 1.7696  data_time: 0.8216  lr: 0.00025  max_mem: 3183M\n",
      "[03/15 20:07:18 d2.utils.events]:  eta: 0:15:42  iter: 4399  total_loss: 0.3534  loss_cls: 0.08409  loss_box_reg: 0.1333  loss_mask: 0.09126  loss_rpn_cls: 0.0007974  loss_rpn_loc: 0.04545  time: 1.7695  data_time: 0.8545  lr: 0.00025  max_mem: 3183M\n",
      "[03/15 20:07:54 d2.utils.events]:  eta: 0:15:11  iter: 4419  total_loss: 0.369  loss_cls: 0.08662  loss_box_reg: 0.1395  loss_mask: 0.09566  loss_rpn_cls: 0.0009339  loss_rpn_loc: 0.04731  time: 1.7696  data_time: 0.9349  lr: 0.00025  max_mem: 3183M\n",
      "[03/15 20:08:30 d2.utils.events]:  eta: 0:14:40  iter: 4439  total_loss: 0.3799  loss_cls: 0.08621  loss_box_reg: 0.1418  loss_mask: 0.09535  loss_rpn_cls: 0.0009234  loss_rpn_loc: 0.04959  time: 1.7696  data_time: 0.8885  lr: 0.00025  max_mem: 3183M\n",
      "[03/15 20:09:05 d2.utils.events]:  eta: 0:14:11  iter: 4459  total_loss: 0.3347  loss_cls: 0.07268  loss_box_reg: 0.129  loss_mask: 0.08831  loss_rpn_cls: 0.0007117  loss_rpn_loc: 0.04661  time: 1.7697  data_time: 0.8944  lr: 0.00025  max_mem: 3183M\n",
      "[03/15 20:09:40 d2.utils.events]:  eta: 0:13:40  iter: 4479  total_loss: 0.3684  loss_cls: 0.09218  loss_box_reg: 0.1306  loss_mask: 0.09034  loss_rpn_cls: 0.001087  loss_rpn_loc: 0.04534  time: 1.7696  data_time: 0.8696  lr: 0.00025  max_mem: 3183M\n",
      "[03/15 20:10:15 d2.utils.events]:  eta: 0:13:09  iter: 4499  total_loss: 0.3432  loss_cls: 0.07541  loss_box_reg: 0.1313  loss_mask: 0.09015  loss_rpn_cls: 0.0009043  loss_rpn_loc: 0.04535  time: 1.7694  data_time: 0.8610  lr: 0.00025  max_mem: 3183M\n",
      "[03/15 20:10:51 d2.utils.events]:  eta: 0:12:38  iter: 4519  total_loss: 0.3584  loss_cls: 0.0813  loss_box_reg: 0.134  loss_mask: 0.0949  loss_rpn_cls: 0.001089  loss_rpn_loc: 0.04635  time: 1.7695  data_time: 0.9229  lr: 0.00025  max_mem: 3183M\n",
      "[03/15 20:11:27 d2.utils.events]:  eta: 0:12:07  iter: 4539  total_loss: 0.3702  loss_cls: 0.08342  loss_box_reg: 0.1356  loss_mask: 0.09805  loss_rpn_cls: 0.0007932  loss_rpn_loc: 0.048  time: 1.7697  data_time: 0.9220  lr: 0.00025  max_mem: 3183M\n",
      "[03/15 20:12:03 d2.utils.events]:  eta: 0:11:36  iter: 4559  total_loss: 0.3626  loss_cls: 0.08069  loss_box_reg: 0.1285  loss_mask: 0.09082  loss_rpn_cls: 0.001077  loss_rpn_loc: 0.04955  time: 1.7699  data_time: 0.9370  lr: 0.00025  max_mem: 3183M\n",
      "[03/15 20:12:39 d2.utils.events]:  eta: 0:11:04  iter: 4579  total_loss: 0.354  loss_cls: 0.08409  loss_box_reg: 0.1322  loss_mask: 0.09302  loss_rpn_cls: 0.00114  loss_rpn_loc: 0.04374  time: 1.7699  data_time: 0.8798  lr: 0.00025  max_mem: 3183M\n",
      "[03/15 20:13:15 d2.utils.events]:  eta: 0:10:33  iter: 4599  total_loss: 0.3777  loss_cls: 0.08361  loss_box_reg: 0.1421  loss_mask: 0.09923  loss_rpn_cls: 0.001328  loss_rpn_loc: 0.0478  time: 1.7700  data_time: 0.9151  lr: 0.00025  max_mem: 3183M\n",
      "[03/15 20:13:49 d2.utils.events]:  eta: 0:10:01  iter: 4619  total_loss: 0.3412  loss_cls: 0.07621  loss_box_reg: 0.1297  loss_mask: 0.09287  loss_rpn_cls: 0.001259  loss_rpn_loc: 0.04383  time: 1.7698  data_time: 0.8422  lr: 0.00025  max_mem: 3183M\n",
      "[03/15 20:14:23 d2.utils.events]:  eta: 0:09:29  iter: 4639  total_loss: 0.3362  loss_cls: 0.0719  loss_box_reg: 0.1297  loss_mask: 0.08979  loss_rpn_cls: 0.0008074  loss_rpn_loc: 0.04488  time: 1.7695  data_time: 0.8421  lr: 0.00025  max_mem: 3183M\n",
      "[03/15 20:14:58 d2.utils.events]:  eta: 0:08:59  iter: 4659  total_loss: 0.3502  loss_cls: 0.0837  loss_box_reg: 0.1276  loss_mask: 0.08958  loss_rpn_cls: 0.0008791  loss_rpn_loc: 0.04909  time: 1.7694  data_time: 0.8632  lr: 0.00025  max_mem: 3183M\n",
      "[03/15 20:15:34 d2.utils.events]:  eta: 0:08:27  iter: 4679  total_loss: 0.3806  loss_cls: 0.0818  loss_box_reg: 0.1429  loss_mask: 0.1006  loss_rpn_cls: 0.001098  loss_rpn_loc: 0.05195  time: 1.7694  data_time: 0.8936  lr: 0.00025  max_mem: 3183M\n",
      "[03/15 20:16:09 d2.utils.events]:  eta: 0:07:56  iter: 4699  total_loss: 0.361  loss_cls: 0.08223  loss_box_reg: 0.1349  loss_mask: 0.09482  loss_rpn_cls: 0.0007224  loss_rpn_loc: 0.04462  time: 1.7695  data_time: 0.8941  lr: 0.00025  max_mem: 3183M\n",
      "[03/15 20:16:46 d2.utils.events]:  eta: 0:07:25  iter: 4719  total_loss: 0.3435  loss_cls: 0.07376  loss_box_reg: 0.1257  loss_mask: 0.08781  loss_rpn_cls: 0.0006118  loss_rpn_loc: 0.04483  time: 1.7698  data_time: 0.9770  lr: 0.00025  max_mem: 3183M\n",
      "[03/15 20:17:22 d2.utils.events]:  eta: 0:06:54  iter: 4739  total_loss: 0.3443  loss_cls: 0.07324  loss_box_reg: 0.1316  loss_mask: 0.08802  loss_rpn_cls: 0.0008283  loss_rpn_loc: 0.04911  time: 1.7698  data_time: 0.8865  lr: 0.00025  max_mem: 3183M\n",
      "[03/15 20:17:56 d2.utils.events]:  eta: 0:06:21  iter: 4759  total_loss: 0.3548  loss_cls: 0.07899  loss_box_reg: 0.1326  loss_mask: 0.0958  loss_rpn_cls: 0.0007773  loss_rpn_loc: 0.04515  time: 1.7696  data_time: 0.8471  lr: 0.00025  max_mem: 3183M\n",
      "[03/15 20:18:32 d2.utils.events]:  eta: 0:05:49  iter: 4779  total_loss: 0.3574  loss_cls: 0.07661  loss_box_reg: 0.1266  loss_mask: 0.09079  loss_rpn_cls: 0.0009738  loss_rpn_loc: 0.04819  time: 1.7696  data_time: 0.9007  lr: 0.00025  max_mem: 3183M\n",
      "[03/15 20:19:06 d2.utils.events]:  eta: 0:05:18  iter: 4799  total_loss: 0.3535  loss_cls: 0.08159  loss_box_reg: 0.1279  loss_mask: 0.0961  loss_rpn_cls: 0.0008472  loss_rpn_loc: 0.04638  time: 1.7695  data_time: 0.8716  lr: 0.00025  max_mem: 3183M\n",
      "[03/15 20:19:42 d2.utils.events]:  eta: 0:04:46  iter: 4819  total_loss: 0.3635  loss_cls: 0.07507  loss_box_reg: 0.1347  loss_mask: 0.09229  loss_rpn_cls: 0.0009339  loss_rpn_loc: 0.04591  time: 1.7694  data_time: 0.8810  lr: 0.00025  max_mem: 3183M\n",
      "[03/15 20:20:17 d2.utils.events]:  eta: 0:04:14  iter: 4839  total_loss: 0.374  loss_cls: 0.08134  loss_box_reg: 0.1393  loss_mask: 0.09713  loss_rpn_cls: 0.0006878  loss_rpn_loc: 0.04658  time: 1.7695  data_time: 0.8750  lr: 0.00025  max_mem: 3183M\n",
      "[03/15 20:20:54 d2.utils.events]:  eta: 0:03:43  iter: 4859  total_loss: 0.3337  loss_cls: 0.07685  loss_box_reg: 0.129  loss_mask: 0.08694  loss_rpn_cls: 0.0006381  loss_rpn_loc: 0.04419  time: 1.7697  data_time: 0.9155  lr: 0.00025  max_mem: 3183M\n",
      "[03/15 20:21:29 d2.utils.events]:  eta: 0:03:10  iter: 4879  total_loss: 0.3396  loss_cls: 0.0731  loss_box_reg: 0.1313  loss_mask: 0.09231  loss_rpn_cls: 0.0006768  loss_rpn_loc: 0.0458  time: 1.7696  data_time: 0.8573  lr: 0.00025  max_mem: 3183M\n",
      "[03/15 20:22:03 d2.utils.events]:  eta: 0:02:38  iter: 4899  total_loss: 0.3413  loss_cls: 0.06972  loss_box_reg: 0.1349  loss_mask: 0.08862  loss_rpn_cls: 0.001129  loss_rpn_loc: 0.04497  time: 1.7693  data_time: 0.8309  lr: 0.00025  max_mem: 3183M\n",
      "[03/15 20:22:37 d2.utils.events]:  eta: 0:02:06  iter: 4919  total_loss: 0.3213  loss_cls: 0.07159  loss_box_reg: 0.1241  loss_mask: 0.09016  loss_rpn_cls: 0.0006538  loss_rpn_loc: 0.04581  time: 1.7691  data_time: 0.8383  lr: 0.00025  max_mem: 3183M\n",
      "[03/15 20:23:12 d2.utils.events]:  eta: 0:01:35  iter: 4939  total_loss: 0.3578  loss_cls: 0.08296  loss_box_reg: 0.1349  loss_mask: 0.0928  loss_rpn_cls: 0.0006268  loss_rpn_loc: 0.04818  time: 1.7690  data_time: 0.8758  lr: 0.00025  max_mem: 3183M\n",
      "[03/15 20:23:47 d2.utils.events]:  eta: 0:01:03  iter: 4959  total_loss: 0.351  loss_cls: 0.07343  loss_box_reg: 0.133  loss_mask: 0.09068  loss_rpn_cls: 0.0009813  loss_rpn_loc: 0.04872  time: 1.7689  data_time: 0.8454  lr: 0.00025  max_mem: 3183M\n",
      "[03/15 20:24:21 d2.utils.events]:  eta: 0:00:31  iter: 4979  total_loss: 0.3657  loss_cls: 0.08029  loss_box_reg: 0.1382  loss_mask: 0.09171  loss_rpn_cls: 0.001018  loss_rpn_loc: 0.04744  time: 1.7687  data_time: 0.8410  lr: 0.00025  max_mem: 3183M\n",
      "[03/15 20:25:00 d2.utils.events]:  eta: 0:00:00  iter: 4999  total_loss: 0.3465  loss_cls: 0.07539  loss_box_reg: 0.1309  loss_mask: 0.08725  loss_rpn_cls: 0.001008  loss_rpn_loc: 0.04738  time: 1.7687  data_time: 0.8692  lr: 0.00025  max_mem: 3183M\n",
      "[03/15 20:25:00 d2.engine.hooks]: Overall training speed: 4998 iterations in 2:27:20 (1.7687 s / it)\n",
      "[03/15 20:25:00 d2.engine.hooks]: Total training time: 2:27:29 (0:00:09 on hooks)\n"
     ]
    }
   ],
   "source": [
    "trainer.train()"
   ]
  },
  {
   "cell_type": "markdown",
   "metadata": {
    "id": "2X0WBMROVjna"
   },
   "source": [
    "###**Save the trained model and config files**"
   ]
  },
  {
   "cell_type": "code",
   "execution_count": 10,
   "metadata": {
    "executionInfo": {
     "elapsed": 1139,
     "status": "ok",
     "timestamp": 1678912145752,
     "user": {
      "displayName": "Tony Lay",
      "userId": "12991364819392579390"
     },
     "user_tz": 0
    },
    "id": "uSmo7-jtVpTy"
   },
   "outputs": [],
   "source": [
    "from detectron2.checkpoint import DetectionCheckpointer\n",
    "\n",
    "# # Save trained model\n",
    "checkpointer = DetectionCheckpointer(trainer.model, save_dir=\"/content/drive/MyDrive/Third Year Project/models/\")\n",
    "checkpointer.save(\"model_0\")  \n",
    "\n",
    "# Save config file\n",
    "f = open('/content/drive/MyDrive/Third Year Project/models/model_0_cfg.yaml','w')\n",
    "f.write(cfg.dump())\n",
    "f.close()"
   ]
  },
  {
   "cell_type": "markdown",
   "metadata": {
    "id": "kDoXEeTWa-Zf"
   },
   "source": [
    "###**Inference using a Saved Model**"
   ]
  },
  {
   "cell_type": "code",
   "execution_count": null,
   "metadata": {
    "id": "rJqre_6gbITI"
   },
   "outputs": [],
   "source": [
    "cfg = get_cfg()\n",
    "cfg.merge_from_file(model_zoo.get_config_file('/content/drive/MyDrive/Third Year Project/models/model_0_cfg.yaml'))\n",
    "cfg.MODEL.ROI_HEADS.SCORE_THRESH_TEST = 0.5 # Set threshold for this model\n",
    "cfg.MODEL.WEIGHTS = '/content/drive/MyDrive/Third Year Project/models/model_0.pth' # Set path model .pth\n",
    "cfg.MODEL.ROI_HEADS.NUM_CLASSES = 22\n",
    "predictor = DefaultPredictor(cfg)"
   ]
  },
  {
   "cell_type": "markdown",
   "metadata": {
    "id": "Z4f1Tot2esU-"
   },
   "source": [
    "###**Inference using the Trained Model**"
   ]
  },
  {
   "cell_type": "code",
   "execution_count": 9,
   "metadata": {
    "executionInfo": {
     "elapsed": 2993,
     "status": "ok",
     "timestamp": 1678901249167,
     "user": {
      "displayName": "Tony Lay",
      "userId": "12991364819392579390"
     },
     "user_tz": 0
    },
    "id": "lqDbn2HedARc"
   },
   "outputs": [],
   "source": [
    "cfg.MODEL.WEIGHTS = os.path.join(\"/content/drive/MyDrive/Third Year Project/models/model_0.pth\")\n",
    "cfg.MODEL.ROI_HEADS.SCORE_THRESH_TEST = 0.5 \n",
    "cfg.DATASETS.TEST = (\"holds_test\", )\n",
    "predictor = DefaultPredictor(cfg)"
   ]
  },
  {
   "cell_type": "code",
   "execution_count": 16,
   "metadata": {
    "executionInfo": {
     "elapsed": 784,
     "status": "ok",
     "timestamp": 1678901370832,
     "user": {
      "displayName": "Tony Lay",
      "userId": "12991364819392579390"
     },
     "user_tz": 0
    },
    "id": "ggCV9HzMew9V"
   },
   "outputs": [],
   "source": [
    "test_dataset_dicts = get_data_dicts(data_path+'test', classes)\n",
    "train_dataset_dicts = get_data_dicts(data_path+'train', classes)"
   ]
  },
  {
   "cell_type": "code",
   "execution_count": 17,
   "metadata": {
    "colab": {
     "base_uri": "https://localhost:8080/",
     "height": 1000,
     "output_embedded_package_id": "1Y2XTNOMmhJmmd47pFX2nFrBTmK2LUjfH"
    },
    "executionInfo": {
     "elapsed": 11091,
     "status": "ok",
     "timestamp": 1678901383408,
     "user": {
      "displayName": "Tony Lay",
      "userId": "12991364819392579390"
     },
     "user_tz": 0
    },
    "id": "IHcgGp8Rfy7S",
    "outputId": "f1edc682-f313-497d-c50d-ef5e532d6487"
   },
   "outputs": [
    {
     "data": {
      "text/plain": [
       "Output hidden; open in https://colab.research.google.com to view."
      ]
     },
     "metadata": {},
     "output_type": "display_data"
    }
   ],
   "source": [
    "for d in random.sample(test_dataset_dicts, 2):    \n",
    "    img = cv2.imread(d[\"file_name\"])\n",
    "    outputs = predictor(img)\n",
    "    v = Visualizer(img[:, :, ::-1],\n",
    "                   metadata=microcontroller_metadata, \n",
    "                   scale=0.8, \n",
    "                   instance_mode=ColorMode.IMAGE_BW # removes the colors of unsegmented pixels\n",
    "    )\n",
    "    v = v.draw_instance_predictions(outputs[\"instances\"].to(\"cpu\"))\n",
    "\n",
    "    plt.figure(figsize=(25,25))\n",
    "    plt.imshow(cv2.cvtColor(v.get_image()[:, :, ::-1], cv2.COLOR_BGR2RGB))\n",
    "    plt.show()"
   ]
  },
  {
   "cell_type": "code",
   "execution_count": null,
   "metadata": {
    "id": "dDqreXOkZJIR"
   },
   "outputs": [],
   "source": []
  }
 ],
 "metadata": {
  "accelerator": "GPU",
  "colab": {
   "provenance": []
  },
  "kernelspec": {
   "display_name": "Python 3",
   "name": "python3"
  },
  "language_info": {
   "name": "python"
  }
 },
 "nbformat": 4,
 "nbformat_minor": 0
}
